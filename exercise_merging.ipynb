{
    "cells": [
        {
            "cell_type": "markdown",
            "metadata": {},
            "source": [
                "# Merging Data to Understand the Relationship between Drug Legalization and Violent Crime\n",
                "\n"
            ]
        },
        {
            "cell_type": "markdown",
            "metadata": {},
            "source": [
                "In recent years, many US states have decided to legalize the use of marijuana. \n",
                "\n",
                "When these ideas were first proposed, there were many theories about the relationship between crime and the \"War on Drugs\" (the term given to US efforts to arrest drug users and dealers over the past several decades). \n",
                "\n",
                "In this exercise, we're going to test a few of those theories using drug arrest data from the state of California. \n",
                "\n",
                "Though California has passed a number of laws lessening penalities for marijuana possession over the years, arguably the biggest changes were in  2010, when the state changed the penalty for possessing a small amount of marijuana from a criminal crime to a \"civil\" penality (meaning those found guilty only had to pay a fine, not go to jail), though possessing, selling, or producing larger quantities remained illegal. Then in 2016, the state fully legalized marijuana for recreational use, not only making possession of small amounts legal, but also creating a regulatory system for producing marijuana for sale. \n",
                "\n",
                "Proponents of drug legalization have long argued that the war on drugs contributes to violent crime by creating an opportunity for drug dealers and organized crime to sell and distribute drugs, a business which tends to generate violence when gangs battle over territory. According to this theory, with drug legalization, we should see violent crime decrease after legalization in places where drug arrests had previously been common. \n",
                "\n",
                "**To be clear,** this is far from the only argument for drug legalization! It is simply the argument we are well positioned to analyze today. "
            ]
        },
        {
            "cell_type": "markdown",
            "metadata": {},
            "source": [
                "\n",
                "## Gradescope Autograding\n",
                "\n",
                "Please follow [all standard guidance](https://www.practicaldatascience.org/html/autograder_guidelines.html) for submitting this assignment to the Gradescope autograder, including storing your solutions in a dictionary called `results` and ensuring your notebook runs from the start to completion without any errors.\n",
                "\n",
                "For this assignment, please name your file `exercise_merging.ipynb` before uploading.\n",
                "\n",
                "You can check that you have answers for all questions in your `results` dictionary with this code:\n",
                "\n",
                "```python\n",
                "assert set(results.keys()) == {\n",
                "    \"ex6_validate_keyword\",\n",
                "    \"ex10_merged_successfully\",\n",
                "    \"ex16_num_obs\",\n",
                "    \"ex17_drug_change\",\n",
                "    \"ex18_violent_change\",\n",
                "    \"ex21_diffindiff\",\n",
                "    \"ex23_diffindiff_proportionate\",\n",
                "}\n",
                "```\n",
                "\n",
                "\n",
                "### Submission Limits\n",
                "\n",
                "Please remember that you are **only allowed three submissions to the autograder.** Your last submission (if you submit 3 or fewer times), or your third submission (if you submit more than 3 times) will determine your grade Submissions that error out will **not** count against this total."
            ]
        },
        {
            "cell_type": "markdown",
            "metadata": {},
            "source": [
                "## Pre-Legalization Analysis\n",
                "\n",
                "### Exercise 1\n",
                "We will begin by examining [county-level data on arrests from California in 2009](https://github.com/nickeubank/practicaldatascience/tree/master/Example_Data/ca). This data is derived directly from data hosted by the [Office of the California State Attorney General](https://openjustice.doj.ca.gov/data), but please follow the github link above and download and import the file `ca_arrests_2009.csv` (don't try and get it directly from the State Attorney General's office). "
            ]
        },
        {
            "cell_type": "code",
            "execution_count": 1,
            "metadata": {},
            "outputs": [],
            "source": [
                "import pandas as pd\n",
                "import numpy as np\n",
                "\n",
                "ca_df = pd.read_csv(\n",
                "    \"https://github.com/nickeubank/practicaldatascience_class/raw/refs/heads/master/Example_Data/ca/ca_arrests_2009.csv\"\n",
                ")"
            ]
        },
        {
            "cell_type": "markdown",
            "metadata": {},
            "source": [
                "### Exercise 2\n",
                "Use your data exploration skills to get a feel for this data. If you need to, you can find the [original codebook here](https://github.com/nickeubank/practicaldatascience/blob/master/Example_Data/ca/arrests_codebook.pdf) (This data is a version of that data, but collapsed to one observation per county.)"
            ]
        },
        {
            "cell_type": "code",
            "execution_count": 2,
            "metadata": {},
            "outputs": [
                {
                    "data": {
                        "application/vnd.microsoft.datawrangler.viewer.v0+json": {
                            "columns": [
                                {
                                    "name": "index",
                                    "rawType": "object",
                                    "type": "string"
                                },
                                {
                                    "name": "Unnamed: 0",
                                    "rawType": "float64",
                                    "type": "float"
                                },
                                {
                                    "name": "VIOLENT",
                                    "rawType": "float64",
                                    "type": "float"
                                },
                                {
                                    "name": "PROPERTY",
                                    "rawType": "float64",
                                    "type": "float"
                                },
                                {
                                    "name": "F_DRUGOFF",
                                    "rawType": "float64",
                                    "type": "float"
                                },
                                {
                                    "name": "F_SEXOFF",
                                    "rawType": "float64",
                                    "type": "float"
                                },
                                {
                                    "name": "F_ALLOTHER",
                                    "rawType": "float64",
                                    "type": "float"
                                },
                                {
                                    "name": "F_TOTAL",
                                    "rawType": "float64",
                                    "type": "float"
                                },
                                {
                                    "name": "M_TOTAL",
                                    "rawType": "float64",
                                    "type": "float"
                                },
                                {
                                    "name": "S_TOTAL",
                                    "rawType": "float64",
                                    "type": "float"
                                }
                            ],
                            "ref": "70459973-9502-4f22-a89b-59f2c0e52e00",
                            "rows": [
                                [
                                    "count",
                                    "58.0",
                                    "58.0",
                                    "58.0",
                                    "58.0",
                                    "58.0",
                                    "58.0",
                                    "58.0",
                                    "58.0",
                                    "58.0"
                                ],
                                [
                                    "mean",
                                    "1710.5",
                                    "2133.8275862068967",
                                    "2187.7758620689656",
                                    "2046.2758620689656",
                                    "142.91379310344828",
                                    "1531.2931034482758",
                                    "8042.086206896552",
                                    "16727.94827586207",
                                    "520.5172413793103"
                                ],
                                [
                                    "std",
                                    "16.886878535320456",
                                    "4937.729079342044",
                                    "4949.115636198024",
                                    "4591.867959900581",
                                    "303.1844603527612",
                                    "3270.99359339357",
                                    "17992.22533683328",
                                    "34113.762098397325",
                                    "1562.0440189832614"
                                ],
                                [
                                    "min",
                                    "1682.0",
                                    "8.0",
                                    "4.0",
                                    "2.0",
                                    "1.0",
                                    "1.0",
                                    "16.0",
                                    "83.0",
                                    "0.0"
                                ],
                                [
                                    "25%",
                                    "1696.25",
                                    "194.0",
                                    "141.25",
                                    "135.5",
                                    "14.0",
                                    "146.5",
                                    "637.25",
                                    "1541.5",
                                    "10.5"
                                ],
                                [
                                    "50%",
                                    "1710.5",
                                    "536.5",
                                    "518.5",
                                    "532.0",
                                    "39.0",
                                    "474.0",
                                    "2084.5",
                                    "6267.0",
                                    "73.0"
                                ],
                                [
                                    "75%",
                                    "1724.75",
                                    "2204.0",
                                    "2338.75",
                                    "1860.5",
                                    "117.75",
                                    "1993.5",
                                    "8677.5",
                                    "16417.25",
                                    "386.0"
                                ],
                                [
                                    "max",
                                    "1739.0",
                                    "35319.0",
                                    "34630.0",
                                    "32193.0",
                                    "2041.0",
                                    "23524.0",
                                    "127707.0",
                                    "238608.0",
                                    "11049.0"
                                ]
                            ],
                            "shape": {
                                "columns": 9,
                                "rows": 8
                            }
                        },
                        "text/html": [
                            "<div>\n",
                            "<style scoped>\n",
                            "    .dataframe tbody tr th:only-of-type {\n",
                            "        vertical-align: middle;\n",
                            "    }\n",
                            "\n",
                            "    .dataframe tbody tr th {\n",
                            "        vertical-align: top;\n",
                            "    }\n",
                            "\n",
                            "    .dataframe thead th {\n",
                            "        text-align: right;\n",
                            "    }\n",
                            "</style>\n",
                            "<table border=\"1\" class=\"dataframe\">\n",
                            "  <thead>\n",
                            "    <tr style=\"text-align: right;\">\n",
                            "      <th></th>\n",
                            "      <th>Unnamed: 0</th>\n",
                            "      <th>VIOLENT</th>\n",
                            "      <th>PROPERTY</th>\n",
                            "      <th>F_DRUGOFF</th>\n",
                            "      <th>F_SEXOFF</th>\n",
                            "      <th>F_ALLOTHER</th>\n",
                            "      <th>F_TOTAL</th>\n",
                            "      <th>M_TOTAL</th>\n",
                            "      <th>S_TOTAL</th>\n",
                            "    </tr>\n",
                            "  </thead>\n",
                            "  <tbody>\n",
                            "    <tr>\n",
                            "      <th>count</th>\n",
                            "      <td>58.000000</td>\n",
                            "      <td>58.000000</td>\n",
                            "      <td>58.000000</td>\n",
                            "      <td>58.000000</td>\n",
                            "      <td>58.000000</td>\n",
                            "      <td>58.000000</td>\n",
                            "      <td>58.000000</td>\n",
                            "      <td>58.000000</td>\n",
                            "      <td>58.000000</td>\n",
                            "    </tr>\n",
                            "    <tr>\n",
                            "      <th>mean</th>\n",
                            "      <td>1710.500000</td>\n",
                            "      <td>2133.827586</td>\n",
                            "      <td>2187.775862</td>\n",
                            "      <td>2046.275862</td>\n",
                            "      <td>142.913793</td>\n",
                            "      <td>1531.293103</td>\n",
                            "      <td>8042.086207</td>\n",
                            "      <td>16727.948276</td>\n",
                            "      <td>520.517241</td>\n",
                            "    </tr>\n",
                            "    <tr>\n",
                            "      <th>std</th>\n",
                            "      <td>16.886879</td>\n",
                            "      <td>4937.729079</td>\n",
                            "      <td>4949.115636</td>\n",
                            "      <td>4591.867960</td>\n",
                            "      <td>303.184460</td>\n",
                            "      <td>3270.993593</td>\n",
                            "      <td>17992.225337</td>\n",
                            "      <td>34113.762098</td>\n",
                            "      <td>1562.044019</td>\n",
                            "    </tr>\n",
                            "    <tr>\n",
                            "      <th>min</th>\n",
                            "      <td>1682.000000</td>\n",
                            "      <td>8.000000</td>\n",
                            "      <td>4.000000</td>\n",
                            "      <td>2.000000</td>\n",
                            "      <td>1.000000</td>\n",
                            "      <td>1.000000</td>\n",
                            "      <td>16.000000</td>\n",
                            "      <td>83.000000</td>\n",
                            "      <td>0.000000</td>\n",
                            "    </tr>\n",
                            "    <tr>\n",
                            "      <th>25%</th>\n",
                            "      <td>1696.250000</td>\n",
                            "      <td>194.000000</td>\n",
                            "      <td>141.250000</td>\n",
                            "      <td>135.500000</td>\n",
                            "      <td>14.000000</td>\n",
                            "      <td>146.500000</td>\n",
                            "      <td>637.250000</td>\n",
                            "      <td>1541.500000</td>\n",
                            "      <td>10.500000</td>\n",
                            "    </tr>\n",
                            "    <tr>\n",
                            "      <th>50%</th>\n",
                            "      <td>1710.500000</td>\n",
                            "      <td>536.500000</td>\n",
                            "      <td>518.500000</td>\n",
                            "      <td>532.000000</td>\n",
                            "      <td>39.000000</td>\n",
                            "      <td>474.000000</td>\n",
                            "      <td>2084.500000</td>\n",
                            "      <td>6267.000000</td>\n",
                            "      <td>73.000000</td>\n",
                            "    </tr>\n",
                            "    <tr>\n",
                            "      <th>75%</th>\n",
                            "      <td>1724.750000</td>\n",
                            "      <td>2204.000000</td>\n",
                            "      <td>2338.750000</td>\n",
                            "      <td>1860.500000</td>\n",
                            "      <td>117.750000</td>\n",
                            "      <td>1993.500000</td>\n",
                            "      <td>8677.500000</td>\n",
                            "      <td>16417.250000</td>\n",
                            "      <td>386.000000</td>\n",
                            "    </tr>\n",
                            "    <tr>\n",
                            "      <th>max</th>\n",
                            "      <td>1739.000000</td>\n",
                            "      <td>35319.000000</td>\n",
                            "      <td>34630.000000</td>\n",
                            "      <td>32193.000000</td>\n",
                            "      <td>2041.000000</td>\n",
                            "      <td>23524.000000</td>\n",
                            "      <td>127707.000000</td>\n",
                            "      <td>238608.000000</td>\n",
                            "      <td>11049.000000</td>\n",
                            "    </tr>\n",
                            "  </tbody>\n",
                            "</table>\n",
                            "</div>"
                        ],
                        "text/plain": [
                            "        Unnamed: 0       VIOLENT      PROPERTY     F_DRUGOFF     F_SEXOFF  \\\n",
                            "count    58.000000     58.000000     58.000000     58.000000    58.000000   \n",
                            "mean   1710.500000   2133.827586   2187.775862   2046.275862   142.913793   \n",
                            "std      16.886879   4937.729079   4949.115636   4591.867960   303.184460   \n",
                            "min    1682.000000      8.000000      4.000000      2.000000     1.000000   \n",
                            "25%    1696.250000    194.000000    141.250000    135.500000    14.000000   \n",
                            "50%    1710.500000    536.500000    518.500000    532.000000    39.000000   \n",
                            "75%    1724.750000   2204.000000   2338.750000   1860.500000   117.750000   \n",
                            "max    1739.000000  35319.000000  34630.000000  32193.000000  2041.000000   \n",
                            "\n",
                            "         F_ALLOTHER        F_TOTAL        M_TOTAL       S_TOTAL  \n",
                            "count     58.000000      58.000000      58.000000     58.000000  \n",
                            "mean    1531.293103    8042.086207   16727.948276    520.517241  \n",
                            "std     3270.993593   17992.225337   34113.762098   1562.044019  \n",
                            "min        1.000000      16.000000      83.000000      0.000000  \n",
                            "25%      146.500000     637.250000    1541.500000     10.500000  \n",
                            "50%      474.000000    2084.500000    6267.000000     73.000000  \n",
                            "75%     1993.500000    8677.500000   16417.250000    386.000000  \n",
                            "max    23524.000000  127707.000000  238608.000000  11049.000000  "
                        ]
                    },
                    "execution_count": 2,
                    "metadata": {},
                    "output_type": "execute_result"
                }
            ],
            "source": [
                "ca_df.describe()"
            ]
        },
        {
            "cell_type": "code",
            "execution_count": 9,
            "metadata": {},
            "outputs": [
                {
                    "name": "stdout",
                    "output_type": "stream",
                    "text": [
                        "<class 'pandas.core.frame.DataFrame'>\n",
                        "RangeIndex: 58 entries, 0 to 57\n",
                        "Data columns (total 10 columns):\n",
                        " #   Column      Non-Null Count  Dtype \n",
                        "---  ------      --------------  ----- \n",
                        " 0   Unnamed: 0  58 non-null     int64 \n",
                        " 1   COUNTY      58 non-null     object\n",
                        " 2   VIOLENT     58 non-null     int64 \n",
                        " 3   PROPERTY    58 non-null     int64 \n",
                        " 4   F_DRUGOFF   58 non-null     int64 \n",
                        " 5   F_SEXOFF    58 non-null     int64 \n",
                        " 6   F_ALLOTHER  58 non-null     int64 \n",
                        " 7   F_TOTAL     58 non-null     int64 \n",
                        " 8   M_TOTAL     58 non-null     int64 \n",
                        " 9   S_TOTAL     58 non-null     int64 \n",
                        "dtypes: int64(9), object(1)\n",
                        "memory usage: 4.7+ KB\n"
                    ]
                }
            ],
            "source": [
                "ca_df.info()"
            ]
        },
        {
            "cell_type": "markdown",
            "metadata": {},
            "source": [
                "### Exercise 3\n",
                "Figuring out what county has the most violent arrests isn't very meaningful if we don't normalize for size. A county with 10 people and 10 arrests for violent crimes is obviously worse than a county with 1,000,000 people an 11 arrests for violent crime. \n",
                "\n",
                "To address this, also import `nhgis_county_populations.csv` from [the directory we're working from](https://github.com/nickeubank/practicaldatascience/tree/master/Example_Data/ca)."
            ]
        },
        {
            "cell_type": "code",
            "execution_count": 10,
            "metadata": {},
            "outputs": [],
            "source": [
                "cp_df = pd.read_csv(\n",
                "    \"https://github.com/nickeubank/practicaldatascience_class/raw/refs/heads/master/Example_Data/ca/nhgis_county_populations.csv\"\n",
                ")"
            ]
        },
        {
            "cell_type": "markdown",
            "metadata": {},
            "source": [
                "### Exercise 4\n",
                "Use your data exploration skills to get used to this data, and figure out how it relates to your 2009 arrest data. "
            ]
        },
        {
            "cell_type": "code",
            "execution_count": 11,
            "metadata": {},
            "outputs": [
                {
                    "data": {
                        "application/vnd.microsoft.datawrangler.viewer.v0+json": {
                            "columns": [
                                {
                                    "name": "index",
                                    "rawType": "object",
                                    "type": "string"
                                },
                                {
                                    "name": "Unnamed: 0",
                                    "rawType": "float64",
                                    "type": "float"
                                },
                                {
                                    "name": "total_population",
                                    "rawType": "float64",
                                    "type": "float"
                                }
                            ],
                            "ref": "575be475-914b-4add-908f-df89abd3c0bd",
                            "rows": [
                                [
                                    "count",
                                    "6441.0",
                                    "6441.0"
                                ],
                                [
                                    "mean",
                                    "1609.7500388138487",
                                    "97791.49386741189"
                                ],
                                [
                                    "std",
                                    "929.7504705617005",
                                    "315247.01654560753"
                                ],
                                [
                                    "min",
                                    "0.0",
                                    "74.0"
                                ],
                                [
                                    "25%",
                                    "805.0",
                                    "11191.0"
                                ],
                                [
                                    "50%",
                                    "1610.0",
                                    "25850.0"
                                ],
                                [
                                    "75%",
                                    "2415.0",
                                    "65563.0"
                                ],
                                [
                                    "max",
                                    "3220.0",
                                    "10105722.0"
                                ]
                            ],
                            "shape": {
                                "columns": 2,
                                "rows": 8
                            }
                        },
                        "text/html": [
                            "<div>\n",
                            "<style scoped>\n",
                            "    .dataframe tbody tr th:only-of-type {\n",
                            "        vertical-align: middle;\n",
                            "    }\n",
                            "\n",
                            "    .dataframe tbody tr th {\n",
                            "        vertical-align: top;\n",
                            "    }\n",
                            "\n",
                            "    .dataframe thead th {\n",
                            "        text-align: right;\n",
                            "    }\n",
                            "</style>\n",
                            "<table border=\"1\" class=\"dataframe\">\n",
                            "  <thead>\n",
                            "    <tr style=\"text-align: right;\">\n",
                            "      <th></th>\n",
                            "      <th>Unnamed: 0</th>\n",
                            "      <th>total_population</th>\n",
                            "    </tr>\n",
                            "  </thead>\n",
                            "  <tbody>\n",
                            "    <tr>\n",
                            "      <th>count</th>\n",
                            "      <td>6441.000000</td>\n",
                            "      <td>6.441000e+03</td>\n",
                            "    </tr>\n",
                            "    <tr>\n",
                            "      <th>mean</th>\n",
                            "      <td>1609.750039</td>\n",
                            "      <td>9.779149e+04</td>\n",
                            "    </tr>\n",
                            "    <tr>\n",
                            "      <th>std</th>\n",
                            "      <td>929.750471</td>\n",
                            "      <td>3.152470e+05</td>\n",
                            "    </tr>\n",
                            "    <tr>\n",
                            "      <th>min</th>\n",
                            "      <td>0.000000</td>\n",
                            "      <td>7.400000e+01</td>\n",
                            "    </tr>\n",
                            "    <tr>\n",
                            "      <th>25%</th>\n",
                            "      <td>805.000000</td>\n",
                            "      <td>1.119100e+04</td>\n",
                            "    </tr>\n",
                            "    <tr>\n",
                            "      <th>50%</th>\n",
                            "      <td>1610.000000</td>\n",
                            "      <td>2.585000e+04</td>\n",
                            "    </tr>\n",
                            "    <tr>\n",
                            "      <th>75%</th>\n",
                            "      <td>2415.000000</td>\n",
                            "      <td>6.556300e+04</td>\n",
                            "    </tr>\n",
                            "    <tr>\n",
                            "      <th>max</th>\n",
                            "      <td>3220.000000</td>\n",
                            "      <td>1.010572e+07</td>\n",
                            "    </tr>\n",
                            "  </tbody>\n",
                            "</table>\n",
                            "</div>"
                        ],
                        "text/plain": [
                            "        Unnamed: 0  total_population\n",
                            "count  6441.000000      6.441000e+03\n",
                            "mean   1609.750039      9.779149e+04\n",
                            "std     929.750471      3.152470e+05\n",
                            "min       0.000000      7.400000e+01\n",
                            "25%     805.000000      1.119100e+04\n",
                            "50%    1610.000000      2.585000e+04\n",
                            "75%    2415.000000      6.556300e+04\n",
                            "max    3220.000000      1.010572e+07"
                        ]
                    },
                    "execution_count": 11,
                    "metadata": {},
                    "output_type": "execute_result"
                }
            ],
            "source": [
                "cp_df.describe()"
            ]
        },
        {
            "cell_type": "code",
            "execution_count": 12,
            "metadata": {},
            "outputs": [
                {
                    "name": "stdout",
                    "output_type": "stream",
                    "text": [
                        "<class 'pandas.core.frame.DataFrame'>\n",
                        "RangeIndex: 6441 entries, 0 to 6440\n",
                        "Data columns (total 5 columns):\n",
                        " #   Column            Non-Null Count  Dtype \n",
                        "---  ------            --------------  ----- \n",
                        " 0   Unnamed: 0        6441 non-null   int64 \n",
                        " 1   YEAR              6441 non-null   object\n",
                        " 2   STATE             6441 non-null   object\n",
                        " 3   COUNTY            6441 non-null   object\n",
                        " 4   total_population  6441 non-null   int64 \n",
                        "dtypes: int64(2), object(3)\n",
                        "memory usage: 251.7+ KB\n"
                    ]
                }
            ],
            "source": [
                "cp_df.info()"
            ]
        },
        {
            "cell_type": "code",
            "execution_count": 22,
            "metadata": {},
            "outputs": [
                {
                    "data": {
                        "application/vnd.microsoft.datawrangler.viewer.v0+json": {
                            "columns": [
                                {
                                    "name": "index",
                                    "rawType": "int64",
                                    "type": "integer"
                                },
                                {
                                    "name": "Unnamed: 0",
                                    "rawType": "int64",
                                    "type": "integer"
                                },
                                {
                                    "name": "YEAR",
                                    "rawType": "object",
                                    "type": "string"
                                },
                                {
                                    "name": "STATE",
                                    "rawType": "object",
                                    "type": "string"
                                },
                                {
                                    "name": "COUNTY",
                                    "rawType": "object",
                                    "type": "string"
                                },
                                {
                                    "name": "total_population",
                                    "rawType": "int64",
                                    "type": "integer"
                                }
                            ],
                            "ref": "185902a2-47af-4699-979e-4f13337e90ef",
                            "rows": [
                                [
                                    "5783",
                                    "2562",
                                    "2013-2017",
                                    "Texas",
                                    "Cochran County",
                                    "2932"
                                ],
                                [
                                    "1912",
                                    "1912",
                                    "2005-2009",
                                    "North Carolina",
                                    "Cleveland County",
                                    "98331"
                                ],
                                [
                                    "5271",
                                    "2050",
                                    "2013-2017",
                                    "Ohio",
                                    "Brown County",
                                    "43799"
                                ],
                                [
                                    "3942",
                                    "721",
                                    "2013-2017",
                                    "Indiana",
                                    "Fulton County",
                                    "20296"
                                ],
                                [
                                    "3955",
                                    "734",
                                    "2013-2017",
                                    "Indiana",
                                    "Jay County",
                                    "21107"
                                ],
                                [
                                    "163",
                                    "163",
                                    "2005-2009",
                                    "Arkansas",
                                    "Perry County",
                                    "10294"
                                ],
                                [
                                    "4285",
                                    "1064",
                                    "2013-2017",
                                    "Kentucky",
                                    "Lyon County",
                                    "8268"
                                ],
                                [
                                    "1682",
                                    "1682",
                                    "2005-2009",
                                    "Nebraska",
                                    "Dundy County",
                                    "1939"
                                ],
                                [
                                    "2851",
                                    "2851",
                                    "2005-2009",
                                    "Virginia",
                                    "Fluvanna County",
                                    "25162"
                                ],
                                [
                                    "5118",
                                    "1897",
                                    "2013-2017",
                                    "North Carolina",
                                    "Bertie County",
                                    "19913"
                                ]
                            ],
                            "shape": {
                                "columns": 5,
                                "rows": 10
                            }
                        },
                        "text/html": [
                            "<div>\n",
                            "<style scoped>\n",
                            "    .dataframe tbody tr th:only-of-type {\n",
                            "        vertical-align: middle;\n",
                            "    }\n",
                            "\n",
                            "    .dataframe tbody tr th {\n",
                            "        vertical-align: top;\n",
                            "    }\n",
                            "\n",
                            "    .dataframe thead th {\n",
                            "        text-align: right;\n",
                            "    }\n",
                            "</style>\n",
                            "<table border=\"1\" class=\"dataframe\">\n",
                            "  <thead>\n",
                            "    <tr style=\"text-align: right;\">\n",
                            "      <th></th>\n",
                            "      <th>Unnamed: 0</th>\n",
                            "      <th>YEAR</th>\n",
                            "      <th>STATE</th>\n",
                            "      <th>COUNTY</th>\n",
                            "      <th>total_population</th>\n",
                            "    </tr>\n",
                            "  </thead>\n",
                            "  <tbody>\n",
                            "    <tr>\n",
                            "      <th>5783</th>\n",
                            "      <td>2562</td>\n",
                            "      <td>2013-2017</td>\n",
                            "      <td>Texas</td>\n",
                            "      <td>Cochran County</td>\n",
                            "      <td>2932</td>\n",
                            "    </tr>\n",
                            "    <tr>\n",
                            "      <th>1912</th>\n",
                            "      <td>1912</td>\n",
                            "      <td>2005-2009</td>\n",
                            "      <td>North Carolina</td>\n",
                            "      <td>Cleveland County</td>\n",
                            "      <td>98331</td>\n",
                            "    </tr>\n",
                            "    <tr>\n",
                            "      <th>5271</th>\n",
                            "      <td>2050</td>\n",
                            "      <td>2013-2017</td>\n",
                            "      <td>Ohio</td>\n",
                            "      <td>Brown County</td>\n",
                            "      <td>43799</td>\n",
                            "    </tr>\n",
                            "    <tr>\n",
                            "      <th>3942</th>\n",
                            "      <td>721</td>\n",
                            "      <td>2013-2017</td>\n",
                            "      <td>Indiana</td>\n",
                            "      <td>Fulton County</td>\n",
                            "      <td>20296</td>\n",
                            "    </tr>\n",
                            "    <tr>\n",
                            "      <th>3955</th>\n",
                            "      <td>734</td>\n",
                            "      <td>2013-2017</td>\n",
                            "      <td>Indiana</td>\n",
                            "      <td>Jay County</td>\n",
                            "      <td>21107</td>\n",
                            "    </tr>\n",
                            "    <tr>\n",
                            "      <th>163</th>\n",
                            "      <td>163</td>\n",
                            "      <td>2005-2009</td>\n",
                            "      <td>Arkansas</td>\n",
                            "      <td>Perry County</td>\n",
                            "      <td>10294</td>\n",
                            "    </tr>\n",
                            "    <tr>\n",
                            "      <th>4285</th>\n",
                            "      <td>1064</td>\n",
                            "      <td>2013-2017</td>\n",
                            "      <td>Kentucky</td>\n",
                            "      <td>Lyon County</td>\n",
                            "      <td>8268</td>\n",
                            "    </tr>\n",
                            "    <tr>\n",
                            "      <th>1682</th>\n",
                            "      <td>1682</td>\n",
                            "      <td>2005-2009</td>\n",
                            "      <td>Nebraska</td>\n",
                            "      <td>Dundy County</td>\n",
                            "      <td>1939</td>\n",
                            "    </tr>\n",
                            "    <tr>\n",
                            "      <th>2851</th>\n",
                            "      <td>2851</td>\n",
                            "      <td>2005-2009</td>\n",
                            "      <td>Virginia</td>\n",
                            "      <td>Fluvanna County</td>\n",
                            "      <td>25162</td>\n",
                            "    </tr>\n",
                            "    <tr>\n",
                            "      <th>5118</th>\n",
                            "      <td>1897</td>\n",
                            "      <td>2013-2017</td>\n",
                            "      <td>North Carolina</td>\n",
                            "      <td>Bertie County</td>\n",
                            "      <td>19913</td>\n",
                            "    </tr>\n",
                            "  </tbody>\n",
                            "</table>\n",
                            "</div>"
                        ],
                        "text/plain": [
                            "      Unnamed: 0       YEAR           STATE            COUNTY  \\\n",
                            "5783        2562  2013-2017           Texas    Cochran County   \n",
                            "1912        1912  2005-2009  North Carolina  Cleveland County   \n",
                            "5271        2050  2013-2017            Ohio      Brown County   \n",
                            "3942         721  2013-2017         Indiana     Fulton County   \n",
                            "3955         734  2013-2017         Indiana        Jay County   \n",
                            "163          163  2005-2009        Arkansas      Perry County   \n",
                            "4285        1064  2013-2017        Kentucky       Lyon County   \n",
                            "1682        1682  2005-2009        Nebraska      Dundy County   \n",
                            "2851        2851  2005-2009        Virginia   Fluvanna County   \n",
                            "5118        1897  2013-2017  North Carolina     Bertie County   \n",
                            "\n",
                            "      total_population  \n",
                            "5783              2932  \n",
                            "1912             98331  \n",
                            "5271             43799  \n",
                            "3942             20296  \n",
                            "3955             21107  \n",
                            "163              10294  \n",
                            "4285              8268  \n",
                            "1682              1939  \n",
                            "2851             25162  \n",
                            "5118             19913  "
                        ]
                    },
                    "execution_count": 22,
                    "metadata": {},
                    "output_type": "execute_result"
                }
            ],
            "source": [
                "cp_df.sample(10)"
            ]
        },
        {
            "cell_type": "code",
            "execution_count": 18,
            "metadata": {},
            "outputs": [
                {
                    "data": {
                        "application/vnd.microsoft.datawrangler.viewer.v0+json": {
                            "columns": [
                                {
                                    "name": "COUNTY",
                                    "rawType": "object",
                                    "type": "string"
                                },
                                {
                                    "name": "count",
                                    "rawType": "int64",
                                    "type": "integer"
                                }
                            ],
                            "ref": "1d708c85-8ebe-4084-be51-b603e0ad0b37",
                            "rows": [
                                [
                                    "Washington County",
                                    "60"
                                ],
                                [
                                    "Jefferson County",
                                    "50"
                                ],
                                [
                                    "Franklin County",
                                    "48"
                                ],
                                [
                                    "Jackson County",
                                    "46"
                                ],
                                [
                                    "Lincoln County",
                                    "46"
                                ],
                                [
                                    "Madison County",
                                    "38"
                                ],
                                [
                                    "Montgomery County",
                                    "36"
                                ],
                                [
                                    "Clay County",
                                    "36"
                                ],
                                [
                                    "Marion County",
                                    "34"
                                ],
                                [
                                    "Monroe County",
                                    "34"
                                ],
                                [
                                    "Union County",
                                    "34"
                                ],
                                [
                                    "Wayne County",
                                    "32"
                                ],
                                [
                                    "Warren County",
                                    "28"
                                ],
                                [
                                    "Grant County",
                                    "28"
                                ],
                                [
                                    "Greene County",
                                    "28"
                                ],
                                [
                                    "Carroll County",
                                    "26"
                                ],
                                [
                                    "Lee County",
                                    "24"
                                ],
                                [
                                    "Adams County",
                                    "24"
                                ],
                                [
                                    "Lake County",
                                    "24"
                                ],
                                [
                                    "Polk County",
                                    "24"
                                ],
                                [
                                    "Clark County",
                                    "24"
                                ],
                                [
                                    "Johnson County",
                                    "24"
                                ],
                                [
                                    "Marshall County",
                                    "24"
                                ],
                                [
                                    "Douglas County",
                                    "24"
                                ],
                                [
                                    "Crawford County",
                                    "22"
                                ],
                                [
                                    "Fayette County",
                                    "22"
                                ],
                                [
                                    "Calhoun County",
                                    "22"
                                ],
                                [
                                    "Lawrence County",
                                    "22"
                                ],
                                [
                                    "Morgan County",
                                    "22"
                                ],
                                [
                                    "Scott County",
                                    "22"
                                ],
                                [
                                    "Logan County",
                                    "20"
                                ],
                                [
                                    "Pike County",
                                    "20"
                                ],
                                [
                                    "Perry County",
                                    "20"
                                ],
                                [
                                    "Henry County",
                                    "20"
                                ],
                                [
                                    "Hancock County",
                                    "20"
                                ],
                                [
                                    "Hamilton County",
                                    "20"
                                ],
                                [
                                    "Brown County",
                                    "18"
                                ],
                                [
                                    "Shelby County",
                                    "18"
                                ],
                                [
                                    "Knox County",
                                    "18"
                                ],
                                [
                                    "Cass County",
                                    "18"
                                ],
                                [
                                    "Clinton County",
                                    "18"
                                ],
                                [
                                    "Putnam County",
                                    "18"
                                ],
                                [
                                    "Benton County",
                                    "18"
                                ],
                                [
                                    "Orange County",
                                    "16"
                                ],
                                [
                                    "Mercer County",
                                    "16"
                                ],
                                [
                                    "Harrison County",
                                    "16"
                                ],
                                [
                                    "Fulton County",
                                    "16"
                                ],
                                [
                                    "Columbia County",
                                    "16"
                                ],
                                [
                                    "Boone County",
                                    "16"
                                ],
                                [
                                    "Jasper County",
                                    "16"
                                ]
                            ],
                            "shape": {
                                "columns": 1,
                                "rows": 1959
                            }
                        },
                        "text/plain": [
                            "COUNTY\n",
                            "Washington County       60\n",
                            "Jefferson County        50\n",
                            "Franklin County         48\n",
                            "Jackson County          46\n",
                            "Lincoln County          46\n",
                            "                        ..\n",
                            "Bedford city             1\n",
                            "Kusilvak Census Area     1\n",
                            "Petersburg Borough       1\n",
                            "LaSalle Parish           1\n",
                            "Oglala Lakota County     1\n",
                            "Name: count, Length: 1959, dtype: int64"
                        ]
                    },
                    "execution_count": 18,
                    "metadata": {},
                    "output_type": "execute_result"
                }
            ],
            "source": [
                "cp_df[\"COUNTY\"].value_counts()"
            ]
        },
        {
            "cell_type": "code",
            "execution_count": 17,
            "metadata": {},
            "outputs": [
                {
                    "data": {
                        "application/vnd.microsoft.datawrangler.viewer.v0+json": {
                            "columns": [
                                {
                                    "name": "index",
                                    "rawType": "int64",
                                    "type": "integer"
                                },
                                {
                                    "name": "Unnamed: 0",
                                    "rawType": "int64",
                                    "type": "integer"
                                },
                                {
                                    "name": "COUNTY",
                                    "rawType": "object",
                                    "type": "string"
                                },
                                {
                                    "name": "VIOLENT",
                                    "rawType": "int64",
                                    "type": "integer"
                                },
                                {
                                    "name": "PROPERTY",
                                    "rawType": "int64",
                                    "type": "integer"
                                },
                                {
                                    "name": "F_DRUGOFF",
                                    "rawType": "int64",
                                    "type": "integer"
                                },
                                {
                                    "name": "F_SEXOFF",
                                    "rawType": "int64",
                                    "type": "integer"
                                },
                                {
                                    "name": "F_ALLOTHER",
                                    "rawType": "int64",
                                    "type": "integer"
                                },
                                {
                                    "name": "F_TOTAL",
                                    "rawType": "int64",
                                    "type": "integer"
                                },
                                {
                                    "name": "M_TOTAL",
                                    "rawType": "int64",
                                    "type": "integer"
                                },
                                {
                                    "name": "S_TOTAL",
                                    "rawType": "int64",
                                    "type": "integer"
                                }
                            ],
                            "ref": "b09be5d9-fe9f-4810-9635-1746074f1413",
                            "rows": [
                                [
                                    "0",
                                    "1682",
                                    "Alameda County",
                                    "4318",
                                    "4640",
                                    "5749",
                                    "260",
                                    "3502",
                                    "18469",
                                    "37247",
                                    "431"
                                ],
                                [
                                    "1",
                                    "1683",
                                    "Alpine County",
                                    "8",
                                    "4",
                                    "2",
                                    "1",
                                    "1",
                                    "16",
                                    "83",
                                    "0"
                                ],
                                [
                                    "2",
                                    "1684",
                                    "Amador County",
                                    "100",
                                    "59",
                                    "101",
                                    "5",
                                    "199",
                                    "464",
                                    "801",
                                    "2"
                                ],
                                [
                                    "3",
                                    "1685",
                                    "Butte County",
                                    "641",
                                    "602",
                                    "542",
                                    "34",
                                    "429",
                                    "2248",
                                    "9026",
                                    "1"
                                ],
                                [
                                    "4",
                                    "1686",
                                    "Calaveras County",
                                    "211",
                                    "83",
                                    "123",
                                    "14",
                                    "70",
                                    "501",
                                    "968",
                                    "3"
                                ],
                                [
                                    "5",
                                    "1687",
                                    "Colusa County",
                                    "58",
                                    "50",
                                    "28",
                                    "7",
                                    "132",
                                    "275",
                                    "917",
                                    "0"
                                ],
                                [
                                    "6",
                                    "1688",
                                    "Contra Costa County",
                                    "2976",
                                    "3532",
                                    "2895",
                                    "189",
                                    "2069",
                                    "11661",
                                    "18539",
                                    "50"
                                ],
                                [
                                    "7",
                                    "1689",
                                    "Del Norte County",
                                    "144",
                                    "104",
                                    "79",
                                    "13",
                                    "97",
                                    "437",
                                    "1268",
                                    "5"
                                ],
                                [
                                    "8",
                                    "1690",
                                    "El Dorado County",
                                    "570",
                                    "399",
                                    "403",
                                    "45",
                                    "614",
                                    "2031",
                                    "4734",
                                    "54"
                                ],
                                [
                                    "9",
                                    "1691",
                                    "Fresno County",
                                    "4377",
                                    "3514",
                                    "3508",
                                    "305",
                                    "3253",
                                    "14957",
                                    "31710",
                                    "377"
                                ],
                                [
                                    "10",
                                    "1692",
                                    "Glenn County",
                                    "104",
                                    "78",
                                    "104",
                                    "14",
                                    "133",
                                    "433",
                                    "1283",
                                    "73"
                                ],
                                [
                                    "11",
                                    "1693",
                                    "Humboldt County",
                                    "503",
                                    "440",
                                    "747",
                                    "54",
                                    "394",
                                    "2138",
                                    "7460",
                                    "420"
                                ],
                                [
                                    "12",
                                    "1694",
                                    "Imperial County",
                                    "599",
                                    "779",
                                    "730",
                                    "28",
                                    "449",
                                    "2585",
                                    "6739",
                                    "69"
                                ],
                                [
                                    "13",
                                    "1695",
                                    "Inyo County",
                                    "81",
                                    "44",
                                    "39",
                                    "3",
                                    "38",
                                    "205",
                                    "851",
                                    "1"
                                ],
                                [
                                    "14",
                                    "1696",
                                    "Kern County",
                                    "4290",
                                    "4384",
                                    "3320",
                                    "202",
                                    "2975",
                                    "15171",
                                    "31828",
                                    "524"
                                ],
                                [
                                    "15",
                                    "1697",
                                    "Kings County",
                                    "390",
                                    "322",
                                    "278",
                                    "49",
                                    "499",
                                    "1538",
                                    "5203",
                                    "415"
                                ],
                                [
                                    "16",
                                    "1698",
                                    "Lake County",
                                    "349",
                                    "204",
                                    "271",
                                    "17",
                                    "303",
                                    "1144",
                                    "3095",
                                    "13"
                                ],
                                [
                                    "17",
                                    "1699",
                                    "Lassen County",
                                    "101",
                                    "62",
                                    "35",
                                    "6",
                                    "83",
                                    "287",
                                    "881",
                                    "12"
                                ],
                                [
                                    "18",
                                    "1700",
                                    "Los Angeles County",
                                    "35319",
                                    "34630",
                                    "32193",
                                    "2041",
                                    "23524",
                                    "127707",
                                    "238608",
                                    "11049"
                                ],
                                [
                                    "19",
                                    "1701",
                                    "Madera County",
                                    "453",
                                    "409",
                                    "260",
                                    "35",
                                    "505",
                                    "1662",
                                    "3366",
                                    "2"
                                ],
                                [
                                    "20",
                                    "1702",
                                    "Marin County",
                                    "500",
                                    "532",
                                    "454",
                                    "29",
                                    "276",
                                    "1791",
                                    "5795",
                                    "178"
                                ],
                                [
                                    "21",
                                    "1703",
                                    "Mariposa County",
                                    "64",
                                    "40",
                                    "46",
                                    "7",
                                    "43",
                                    "200",
                                    "517",
                                    "21"
                                ],
                                [
                                    "22",
                                    "1704",
                                    "Mendocino County",
                                    "415",
                                    "296",
                                    "551",
                                    "17",
                                    "364",
                                    "1643",
                                    "3654",
                                    "10"
                                ],
                                [
                                    "23",
                                    "1705",
                                    "Merced County",
                                    "1169",
                                    "1167",
                                    "1055",
                                    "78",
                                    "1006",
                                    "4475",
                                    "9637",
                                    "714"
                                ],
                                [
                                    "24",
                                    "1706",
                                    "Modoc County",
                                    "47",
                                    "29",
                                    "10",
                                    "5",
                                    "52",
                                    "143",
                                    "310",
                                    "50"
                                ]
                            ],
                            "shape": {
                                "columns": 10,
                                "rows": 25
                            }
                        },
                        "text/html": [
                            "<div>\n",
                            "<style scoped>\n",
                            "    .dataframe tbody tr th:only-of-type {\n",
                            "        vertical-align: middle;\n",
                            "    }\n",
                            "\n",
                            "    .dataframe tbody tr th {\n",
                            "        vertical-align: top;\n",
                            "    }\n",
                            "\n",
                            "    .dataframe thead th {\n",
                            "        text-align: right;\n",
                            "    }\n",
                            "</style>\n",
                            "<table border=\"1\" class=\"dataframe\">\n",
                            "  <thead>\n",
                            "    <tr style=\"text-align: right;\">\n",
                            "      <th></th>\n",
                            "      <th>Unnamed: 0</th>\n",
                            "      <th>COUNTY</th>\n",
                            "      <th>VIOLENT</th>\n",
                            "      <th>PROPERTY</th>\n",
                            "      <th>F_DRUGOFF</th>\n",
                            "      <th>F_SEXOFF</th>\n",
                            "      <th>F_ALLOTHER</th>\n",
                            "      <th>F_TOTAL</th>\n",
                            "      <th>M_TOTAL</th>\n",
                            "      <th>S_TOTAL</th>\n",
                            "    </tr>\n",
                            "  </thead>\n",
                            "  <tbody>\n",
                            "    <tr>\n",
                            "      <th>0</th>\n",
                            "      <td>1682</td>\n",
                            "      <td>Alameda County</td>\n",
                            "      <td>4318</td>\n",
                            "      <td>4640</td>\n",
                            "      <td>5749</td>\n",
                            "      <td>260</td>\n",
                            "      <td>3502</td>\n",
                            "      <td>18469</td>\n",
                            "      <td>37247</td>\n",
                            "      <td>431</td>\n",
                            "    </tr>\n",
                            "    <tr>\n",
                            "      <th>1</th>\n",
                            "      <td>1683</td>\n",
                            "      <td>Alpine County</td>\n",
                            "      <td>8</td>\n",
                            "      <td>4</td>\n",
                            "      <td>2</td>\n",
                            "      <td>1</td>\n",
                            "      <td>1</td>\n",
                            "      <td>16</td>\n",
                            "      <td>83</td>\n",
                            "      <td>0</td>\n",
                            "    </tr>\n",
                            "    <tr>\n",
                            "      <th>2</th>\n",
                            "      <td>1684</td>\n",
                            "      <td>Amador County</td>\n",
                            "      <td>100</td>\n",
                            "      <td>59</td>\n",
                            "      <td>101</td>\n",
                            "      <td>5</td>\n",
                            "      <td>199</td>\n",
                            "      <td>464</td>\n",
                            "      <td>801</td>\n",
                            "      <td>2</td>\n",
                            "    </tr>\n",
                            "    <tr>\n",
                            "      <th>3</th>\n",
                            "      <td>1685</td>\n",
                            "      <td>Butte County</td>\n",
                            "      <td>641</td>\n",
                            "      <td>602</td>\n",
                            "      <td>542</td>\n",
                            "      <td>34</td>\n",
                            "      <td>429</td>\n",
                            "      <td>2248</td>\n",
                            "      <td>9026</td>\n",
                            "      <td>1</td>\n",
                            "    </tr>\n",
                            "    <tr>\n",
                            "      <th>4</th>\n",
                            "      <td>1686</td>\n",
                            "      <td>Calaveras County</td>\n",
                            "      <td>211</td>\n",
                            "      <td>83</td>\n",
                            "      <td>123</td>\n",
                            "      <td>14</td>\n",
                            "      <td>70</td>\n",
                            "      <td>501</td>\n",
                            "      <td>968</td>\n",
                            "      <td>3</td>\n",
                            "    </tr>\n",
                            "    <tr>\n",
                            "      <th>5</th>\n",
                            "      <td>1687</td>\n",
                            "      <td>Colusa County</td>\n",
                            "      <td>58</td>\n",
                            "      <td>50</td>\n",
                            "      <td>28</td>\n",
                            "      <td>7</td>\n",
                            "      <td>132</td>\n",
                            "      <td>275</td>\n",
                            "      <td>917</td>\n",
                            "      <td>0</td>\n",
                            "    </tr>\n",
                            "    <tr>\n",
                            "      <th>6</th>\n",
                            "      <td>1688</td>\n",
                            "      <td>Contra Costa County</td>\n",
                            "      <td>2976</td>\n",
                            "      <td>3532</td>\n",
                            "      <td>2895</td>\n",
                            "      <td>189</td>\n",
                            "      <td>2069</td>\n",
                            "      <td>11661</td>\n",
                            "      <td>18539</td>\n",
                            "      <td>50</td>\n",
                            "    </tr>\n",
                            "    <tr>\n",
                            "      <th>7</th>\n",
                            "      <td>1689</td>\n",
                            "      <td>Del Norte County</td>\n",
                            "      <td>144</td>\n",
                            "      <td>104</td>\n",
                            "      <td>79</td>\n",
                            "      <td>13</td>\n",
                            "      <td>97</td>\n",
                            "      <td>437</td>\n",
                            "      <td>1268</td>\n",
                            "      <td>5</td>\n",
                            "    </tr>\n",
                            "    <tr>\n",
                            "      <th>8</th>\n",
                            "      <td>1690</td>\n",
                            "      <td>El Dorado County</td>\n",
                            "      <td>570</td>\n",
                            "      <td>399</td>\n",
                            "      <td>403</td>\n",
                            "      <td>45</td>\n",
                            "      <td>614</td>\n",
                            "      <td>2031</td>\n",
                            "      <td>4734</td>\n",
                            "      <td>54</td>\n",
                            "    </tr>\n",
                            "    <tr>\n",
                            "      <th>9</th>\n",
                            "      <td>1691</td>\n",
                            "      <td>Fresno County</td>\n",
                            "      <td>4377</td>\n",
                            "      <td>3514</td>\n",
                            "      <td>3508</td>\n",
                            "      <td>305</td>\n",
                            "      <td>3253</td>\n",
                            "      <td>14957</td>\n",
                            "      <td>31710</td>\n",
                            "      <td>377</td>\n",
                            "    </tr>\n",
                            "    <tr>\n",
                            "      <th>10</th>\n",
                            "      <td>1692</td>\n",
                            "      <td>Glenn County</td>\n",
                            "      <td>104</td>\n",
                            "      <td>78</td>\n",
                            "      <td>104</td>\n",
                            "      <td>14</td>\n",
                            "      <td>133</td>\n",
                            "      <td>433</td>\n",
                            "      <td>1283</td>\n",
                            "      <td>73</td>\n",
                            "    </tr>\n",
                            "    <tr>\n",
                            "      <th>11</th>\n",
                            "      <td>1693</td>\n",
                            "      <td>Humboldt County</td>\n",
                            "      <td>503</td>\n",
                            "      <td>440</td>\n",
                            "      <td>747</td>\n",
                            "      <td>54</td>\n",
                            "      <td>394</td>\n",
                            "      <td>2138</td>\n",
                            "      <td>7460</td>\n",
                            "      <td>420</td>\n",
                            "    </tr>\n",
                            "    <tr>\n",
                            "      <th>12</th>\n",
                            "      <td>1694</td>\n",
                            "      <td>Imperial County</td>\n",
                            "      <td>599</td>\n",
                            "      <td>779</td>\n",
                            "      <td>730</td>\n",
                            "      <td>28</td>\n",
                            "      <td>449</td>\n",
                            "      <td>2585</td>\n",
                            "      <td>6739</td>\n",
                            "      <td>69</td>\n",
                            "    </tr>\n",
                            "    <tr>\n",
                            "      <th>13</th>\n",
                            "      <td>1695</td>\n",
                            "      <td>Inyo County</td>\n",
                            "      <td>81</td>\n",
                            "      <td>44</td>\n",
                            "      <td>39</td>\n",
                            "      <td>3</td>\n",
                            "      <td>38</td>\n",
                            "      <td>205</td>\n",
                            "      <td>851</td>\n",
                            "      <td>1</td>\n",
                            "    </tr>\n",
                            "    <tr>\n",
                            "      <th>14</th>\n",
                            "      <td>1696</td>\n",
                            "      <td>Kern County</td>\n",
                            "      <td>4290</td>\n",
                            "      <td>4384</td>\n",
                            "      <td>3320</td>\n",
                            "      <td>202</td>\n",
                            "      <td>2975</td>\n",
                            "      <td>15171</td>\n",
                            "      <td>31828</td>\n",
                            "      <td>524</td>\n",
                            "    </tr>\n",
                            "    <tr>\n",
                            "      <th>15</th>\n",
                            "      <td>1697</td>\n",
                            "      <td>Kings County</td>\n",
                            "      <td>390</td>\n",
                            "      <td>322</td>\n",
                            "      <td>278</td>\n",
                            "      <td>49</td>\n",
                            "      <td>499</td>\n",
                            "      <td>1538</td>\n",
                            "      <td>5203</td>\n",
                            "      <td>415</td>\n",
                            "    </tr>\n",
                            "    <tr>\n",
                            "      <th>16</th>\n",
                            "      <td>1698</td>\n",
                            "      <td>Lake County</td>\n",
                            "      <td>349</td>\n",
                            "      <td>204</td>\n",
                            "      <td>271</td>\n",
                            "      <td>17</td>\n",
                            "      <td>303</td>\n",
                            "      <td>1144</td>\n",
                            "      <td>3095</td>\n",
                            "      <td>13</td>\n",
                            "    </tr>\n",
                            "    <tr>\n",
                            "      <th>17</th>\n",
                            "      <td>1699</td>\n",
                            "      <td>Lassen County</td>\n",
                            "      <td>101</td>\n",
                            "      <td>62</td>\n",
                            "      <td>35</td>\n",
                            "      <td>6</td>\n",
                            "      <td>83</td>\n",
                            "      <td>287</td>\n",
                            "      <td>881</td>\n",
                            "      <td>12</td>\n",
                            "    </tr>\n",
                            "    <tr>\n",
                            "      <th>18</th>\n",
                            "      <td>1700</td>\n",
                            "      <td>Los Angeles County</td>\n",
                            "      <td>35319</td>\n",
                            "      <td>34630</td>\n",
                            "      <td>32193</td>\n",
                            "      <td>2041</td>\n",
                            "      <td>23524</td>\n",
                            "      <td>127707</td>\n",
                            "      <td>238608</td>\n",
                            "      <td>11049</td>\n",
                            "    </tr>\n",
                            "    <tr>\n",
                            "      <th>19</th>\n",
                            "      <td>1701</td>\n",
                            "      <td>Madera County</td>\n",
                            "      <td>453</td>\n",
                            "      <td>409</td>\n",
                            "      <td>260</td>\n",
                            "      <td>35</td>\n",
                            "      <td>505</td>\n",
                            "      <td>1662</td>\n",
                            "      <td>3366</td>\n",
                            "      <td>2</td>\n",
                            "    </tr>\n",
                            "    <tr>\n",
                            "      <th>20</th>\n",
                            "      <td>1702</td>\n",
                            "      <td>Marin County</td>\n",
                            "      <td>500</td>\n",
                            "      <td>532</td>\n",
                            "      <td>454</td>\n",
                            "      <td>29</td>\n",
                            "      <td>276</td>\n",
                            "      <td>1791</td>\n",
                            "      <td>5795</td>\n",
                            "      <td>178</td>\n",
                            "    </tr>\n",
                            "    <tr>\n",
                            "      <th>21</th>\n",
                            "      <td>1703</td>\n",
                            "      <td>Mariposa County</td>\n",
                            "      <td>64</td>\n",
                            "      <td>40</td>\n",
                            "      <td>46</td>\n",
                            "      <td>7</td>\n",
                            "      <td>43</td>\n",
                            "      <td>200</td>\n",
                            "      <td>517</td>\n",
                            "      <td>21</td>\n",
                            "    </tr>\n",
                            "    <tr>\n",
                            "      <th>22</th>\n",
                            "      <td>1704</td>\n",
                            "      <td>Mendocino County</td>\n",
                            "      <td>415</td>\n",
                            "      <td>296</td>\n",
                            "      <td>551</td>\n",
                            "      <td>17</td>\n",
                            "      <td>364</td>\n",
                            "      <td>1643</td>\n",
                            "      <td>3654</td>\n",
                            "      <td>10</td>\n",
                            "    </tr>\n",
                            "    <tr>\n",
                            "      <th>23</th>\n",
                            "      <td>1705</td>\n",
                            "      <td>Merced County</td>\n",
                            "      <td>1169</td>\n",
                            "      <td>1167</td>\n",
                            "      <td>1055</td>\n",
                            "      <td>78</td>\n",
                            "      <td>1006</td>\n",
                            "      <td>4475</td>\n",
                            "      <td>9637</td>\n",
                            "      <td>714</td>\n",
                            "    </tr>\n",
                            "    <tr>\n",
                            "      <th>24</th>\n",
                            "      <td>1706</td>\n",
                            "      <td>Modoc County</td>\n",
                            "      <td>47</td>\n",
                            "      <td>29</td>\n",
                            "      <td>10</td>\n",
                            "      <td>5</td>\n",
                            "      <td>52</td>\n",
                            "      <td>143</td>\n",
                            "      <td>310</td>\n",
                            "      <td>50</td>\n",
                            "    </tr>\n",
                            "  </tbody>\n",
                            "</table>\n",
                            "</div>"
                        ],
                        "text/plain": [
                            "    Unnamed: 0               COUNTY  VIOLENT  PROPERTY  F_DRUGOFF  F_SEXOFF  \\\n",
                            "0         1682       Alameda County     4318      4640       5749       260   \n",
                            "1         1683        Alpine County        8         4          2         1   \n",
                            "2         1684        Amador County      100        59        101         5   \n",
                            "3         1685         Butte County      641       602        542        34   \n",
                            "4         1686     Calaveras County      211        83        123        14   \n",
                            "5         1687        Colusa County       58        50         28         7   \n",
                            "6         1688  Contra Costa County     2976      3532       2895       189   \n",
                            "7         1689     Del Norte County      144       104         79        13   \n",
                            "8         1690     El Dorado County      570       399        403        45   \n",
                            "9         1691        Fresno County     4377      3514       3508       305   \n",
                            "10        1692         Glenn County      104        78        104        14   \n",
                            "11        1693      Humboldt County      503       440        747        54   \n",
                            "12        1694      Imperial County      599       779        730        28   \n",
                            "13        1695          Inyo County       81        44         39         3   \n",
                            "14        1696          Kern County     4290      4384       3320       202   \n",
                            "15        1697         Kings County      390       322        278        49   \n",
                            "16        1698          Lake County      349       204        271        17   \n",
                            "17        1699        Lassen County      101        62         35         6   \n",
                            "18        1700   Los Angeles County    35319     34630      32193      2041   \n",
                            "19        1701        Madera County      453       409        260        35   \n",
                            "20        1702         Marin County      500       532        454        29   \n",
                            "21        1703      Mariposa County       64        40         46         7   \n",
                            "22        1704     Mendocino County      415       296        551        17   \n",
                            "23        1705        Merced County     1169      1167       1055        78   \n",
                            "24        1706         Modoc County       47        29         10         5   \n",
                            "\n",
                            "    F_ALLOTHER  F_TOTAL  M_TOTAL  S_TOTAL  \n",
                            "0         3502    18469    37247      431  \n",
                            "1            1       16       83        0  \n",
                            "2          199      464      801        2  \n",
                            "3          429     2248     9026        1  \n",
                            "4           70      501      968        3  \n",
                            "5          132      275      917        0  \n",
                            "6         2069    11661    18539       50  \n",
                            "7           97      437     1268        5  \n",
                            "8          614     2031     4734       54  \n",
                            "9         3253    14957    31710      377  \n",
                            "10         133      433     1283       73  \n",
                            "11         394     2138     7460      420  \n",
                            "12         449     2585     6739       69  \n",
                            "13          38      205      851        1  \n",
                            "14        2975    15171    31828      524  \n",
                            "15         499     1538     5203      415  \n",
                            "16         303     1144     3095       13  \n",
                            "17          83      287      881       12  \n",
                            "18       23524   127707   238608    11049  \n",
                            "19         505     1662     3366        2  \n",
                            "20         276     1791     5795      178  \n",
                            "21          43      200      517       21  \n",
                            "22         364     1643     3654       10  \n",
                            "23        1006     4475     9637      714  \n",
                            "24          52      143      310       50  "
                        ]
                    },
                    "execution_count": 17,
                    "metadata": {},
                    "output_type": "execute_result"
                }
            ],
            "source": [
                "ca_df.head(25)"
            ]
        },
        {
            "cell_type": "code",
            "execution_count": 19,
            "metadata": {},
            "outputs": [
                {
                    "data": {
                        "application/vnd.microsoft.datawrangler.viewer.v0+json": {
                            "columns": [
                                {
                                    "name": "COUNTY",
                                    "rawType": "object",
                                    "type": "string"
                                },
                                {
                                    "name": "count",
                                    "rawType": "int64",
                                    "type": "integer"
                                }
                            ],
                            "ref": "49dd2476-54a3-4ca5-8f57-8de4d676a950",
                            "rows": [
                                [
                                    "Alameda County",
                                    "1"
                                ],
                                [
                                    "Santa Cruz County",
                                    "1"
                                ],
                                [
                                    "Plumas County",
                                    "1"
                                ],
                                [
                                    "Riverside County",
                                    "1"
                                ],
                                [
                                    "Sacramento County",
                                    "1"
                                ],
                                [
                                    "San Benito County",
                                    "1"
                                ],
                                [
                                    "San Bernardino County",
                                    "1"
                                ],
                                [
                                    "San Diego County",
                                    "1"
                                ],
                                [
                                    "San Francisco County",
                                    "1"
                                ],
                                [
                                    "San Joaquin County",
                                    "1"
                                ],
                                [
                                    "San Luis Obispo County",
                                    "1"
                                ],
                                [
                                    "San Mateo County",
                                    "1"
                                ],
                                [
                                    "Santa Barbara County",
                                    "1"
                                ],
                                [
                                    "Santa Clara County",
                                    "1"
                                ],
                                [
                                    "Shasta County",
                                    "1"
                                ],
                                [
                                    "Alpine County",
                                    "1"
                                ],
                                [
                                    "Sierra County",
                                    "1"
                                ],
                                [
                                    "Siskiyou County",
                                    "1"
                                ],
                                [
                                    "Solano County",
                                    "1"
                                ],
                                [
                                    "Sonoma County",
                                    "1"
                                ],
                                [
                                    "Stanislaus County",
                                    "1"
                                ],
                                [
                                    "Sutter County",
                                    "1"
                                ],
                                [
                                    "Tehama County",
                                    "1"
                                ],
                                [
                                    "Trinity County",
                                    "1"
                                ],
                                [
                                    "Tulare County",
                                    "1"
                                ],
                                [
                                    "Tuolumne County",
                                    "1"
                                ],
                                [
                                    "Ventura County",
                                    "1"
                                ],
                                [
                                    "Yolo County",
                                    "1"
                                ],
                                [
                                    "Placer County",
                                    "1"
                                ],
                                [
                                    "Orange County",
                                    "1"
                                ],
                                [
                                    "Nevada County",
                                    "1"
                                ],
                                [
                                    "Napa County",
                                    "1"
                                ],
                                [
                                    "Amador County",
                                    "1"
                                ],
                                [
                                    "Butte County",
                                    "1"
                                ],
                                [
                                    "Calaveras County",
                                    "1"
                                ],
                                [
                                    "Colusa County",
                                    "1"
                                ],
                                [
                                    "Contra Costa County",
                                    "1"
                                ],
                                [
                                    "Del Norte County",
                                    "1"
                                ],
                                [
                                    "El Dorado County",
                                    "1"
                                ],
                                [
                                    "Fresno County",
                                    "1"
                                ],
                                [
                                    "Glenn County",
                                    "1"
                                ],
                                [
                                    "Humboldt County",
                                    "1"
                                ],
                                [
                                    "Imperial County",
                                    "1"
                                ],
                                [
                                    "Inyo County",
                                    "1"
                                ],
                                [
                                    "Kern County",
                                    "1"
                                ],
                                [
                                    "Kings County",
                                    "1"
                                ],
                                [
                                    "Lake County",
                                    "1"
                                ],
                                [
                                    "Lassen County",
                                    "1"
                                ],
                                [
                                    "Los Angeles County",
                                    "1"
                                ],
                                [
                                    "Madera County",
                                    "1"
                                ]
                            ],
                            "shape": {
                                "columns": 1,
                                "rows": 58
                            }
                        },
                        "text/plain": [
                            "COUNTY\n",
                            "Alameda County            1\n",
                            "Santa Cruz County         1\n",
                            "Plumas County             1\n",
                            "Riverside County          1\n",
                            "Sacramento County         1\n",
                            "San Benito County         1\n",
                            "San Bernardino County     1\n",
                            "San Diego County          1\n",
                            "San Francisco County      1\n",
                            "San Joaquin County        1\n",
                            "San Luis Obispo County    1\n",
                            "San Mateo County          1\n",
                            "Santa Barbara County      1\n",
                            "Santa Clara County        1\n",
                            "Shasta County             1\n",
                            "Alpine County             1\n",
                            "Sierra County             1\n",
                            "Siskiyou County           1\n",
                            "Solano County             1\n",
                            "Sonoma County             1\n",
                            "Stanislaus County         1\n",
                            "Sutter County             1\n",
                            "Tehama County             1\n",
                            "Trinity County            1\n",
                            "Tulare County             1\n",
                            "Tuolumne County           1\n",
                            "Ventura County            1\n",
                            "Yolo County               1\n",
                            "Placer County             1\n",
                            "Orange County             1\n",
                            "Nevada County             1\n",
                            "Napa County               1\n",
                            "Amador County             1\n",
                            "Butte County              1\n",
                            "Calaveras County          1\n",
                            "Colusa County             1\n",
                            "Contra Costa County       1\n",
                            "Del Norte County          1\n",
                            "El Dorado County          1\n",
                            "Fresno County             1\n",
                            "Glenn County              1\n",
                            "Humboldt County           1\n",
                            "Imperial County           1\n",
                            "Inyo County               1\n",
                            "Kern County               1\n",
                            "Kings County              1\n",
                            "Lake County               1\n",
                            "Lassen County             1\n",
                            "Los Angeles County        1\n",
                            "Madera County             1\n",
                            "Marin County              1\n",
                            "Mariposa County           1\n",
                            "Mendocino County          1\n",
                            "Merced County             1\n",
                            "Modoc County              1\n",
                            "Mono County               1\n",
                            "Monterey County           1\n",
                            "Yuba County               1\n",
                            "Name: count, dtype: int64"
                        ]
                    },
                    "execution_count": 19,
                    "metadata": {},
                    "output_type": "execute_result"
                }
            ],
            "source": [
                "ca_df[\"COUNTY\"].value_counts()"
            ]
        },
        {
            "cell_type": "markdown",
            "metadata": {},
            "source": [
                "### Exercise 5\n",
                "\n",
                "Once you feel like you have a good sense of the relation between our arrest and population data, merge the two datasets."
            ]
        },
        {
            "cell_type": "code",
            "execution_count": 32,
            "metadata": {},
            "outputs": [],
            "source": [
                "merged = pd.merge(\n",
                "    cp_df,\n",
                "    ca_df,\n",
                "    left_on=\"COUNTY\",\n",
                "    right_on=\"COUNTY\",\n",
                "    how=\"outer\",\n",
                "    validate=\"m:1\",\n",
                "    indicator=True,\n",
                ")"
            ]
        },
        {
            "cell_type": "code",
            "execution_count": 33,
            "metadata": {},
            "outputs": [
                {
                    "data": {
                        "application/vnd.microsoft.datawrangler.viewer.v0+json": {
                            "columns": [
                                {
                                    "name": "index",
                                    "rawType": "int64",
                                    "type": "integer"
                                },
                                {
                                    "name": "Unnamed: 0_x",
                                    "rawType": "float64",
                                    "type": "float"
                                },
                                {
                                    "name": "YEAR",
                                    "rawType": "object",
                                    "type": "unknown"
                                },
                                {
                                    "name": "STATE",
                                    "rawType": "object",
                                    "type": "unknown"
                                },
                                {
                                    "name": "COUNTY",
                                    "rawType": "object",
                                    "type": "string"
                                },
                                {
                                    "name": "total_population",
                                    "rawType": "float64",
                                    "type": "float"
                                },
                                {
                                    "name": "Unnamed: 0_y",
                                    "rawType": "float64",
                                    "type": "float"
                                },
                                {
                                    "name": "VIOLENT",
                                    "rawType": "float64",
                                    "type": "float"
                                },
                                {
                                    "name": "PROPERTY",
                                    "rawType": "float64",
                                    "type": "float"
                                },
                                {
                                    "name": "F_DRUGOFF",
                                    "rawType": "float64",
                                    "type": "float"
                                },
                                {
                                    "name": "F_SEXOFF",
                                    "rawType": "float64",
                                    "type": "float"
                                },
                                {
                                    "name": "F_ALLOTHER",
                                    "rawType": "float64",
                                    "type": "float"
                                },
                                {
                                    "name": "F_TOTAL",
                                    "rawType": "float64",
                                    "type": "float"
                                },
                                {
                                    "name": "M_TOTAL",
                                    "rawType": "float64",
                                    "type": "float"
                                },
                                {
                                    "name": "S_TOTAL",
                                    "rawType": "float64",
                                    "type": "float"
                                },
                                {
                                    "name": "_merge",
                                    "rawType": "category",
                                    "type": "unknown"
                                }
                            ],
                            "ref": "422f6b78-2b65-4ff2-b8a9-9f9a1a15f0bd",
                            "rows": [
                                [
                                    "0",
                                    "2316.0",
                                    "2005-2009",
                                    "South Carolina",
                                    "Abbeville County",
                                    "25347.0",
                                    null,
                                    null,
                                    null,
                                    null,
                                    null,
                                    null,
                                    null,
                                    null,
                                    null,
                                    "left_only"
                                ],
                                [
                                    "1",
                                    "2316.0",
                                    "2013-2017",
                                    "South Carolina",
                                    "Abbeville County",
                                    "24788.0",
                                    null,
                                    null,
                                    null,
                                    null,
                                    null,
                                    null,
                                    null,
                                    null,
                                    null,
                                    "left_only"
                                ],
                                [
                                    "2",
                                    "1113.0",
                                    "2005-2009",
                                    "Louisiana",
                                    "Acadia Parish",
                                    "59616.0",
                                    null,
                                    null,
                                    null,
                                    null,
                                    null,
                                    null,
                                    null,
                                    null,
                                    null,
                                    "left_only"
                                ],
                                [
                                    "3",
                                    "1113.0",
                                    "2013-2017",
                                    "Louisiana",
                                    "Acadia Parish",
                                    "62607.0",
                                    null,
                                    null,
                                    null,
                                    null,
                                    null,
                                    null,
                                    null,
                                    null,
                                    null,
                                    "left_only"
                                ],
                                [
                                    "4",
                                    "2820.0",
                                    "2005-2009",
                                    "Virginia",
                                    "Accomack County",
                                    "38522.0",
                                    null,
                                    null,
                                    null,
                                    null,
                                    null,
                                    null,
                                    null,
                                    null,
                                    null,
                                    "left_only"
                                ],
                                [
                                    "5",
                                    "2820.0",
                                    "2013-2017",
                                    "Virginia",
                                    "Accomack County",
                                    "32840.0",
                                    null,
                                    null,
                                    null,
                                    null,
                                    null,
                                    null,
                                    null,
                                    null,
                                    null,
                                    "left_only"
                                ],
                                [
                                    "6",
                                    "551.0",
                                    "2005-2009",
                                    "Idaho",
                                    "Ada County",
                                    "368791.0",
                                    null,
                                    null,
                                    null,
                                    null,
                                    null,
                                    null,
                                    null,
                                    null,
                                    null,
                                    "left_only"
                                ],
                                [
                                    "7",
                                    "551.0",
                                    "2013-2017",
                                    "Idaho",
                                    "Ada County",
                                    "435117.0",
                                    null,
                                    null,
                                    null,
                                    null,
                                    null,
                                    null,
                                    null,
                                    null,
                                    null,
                                    "left_only"
                                ],
                                [
                                    "8",
                                    "789.0",
                                    "2005-2009",
                                    "Iowa",
                                    "Adair County",
                                    "7555.0",
                                    null,
                                    null,
                                    null,
                                    null,
                                    null,
                                    null,
                                    null,
                                    null,
                                    null,
                                    "left_only"
                                ],
                                [
                                    "9",
                                    "993.0",
                                    "2005-2009",
                                    "Kentucky",
                                    "Adair County",
                                    "17872.0",
                                    null,
                                    null,
                                    null,
                                    null,
                                    null,
                                    null,
                                    null,
                                    null,
                                    null,
                                    "left_only"
                                ],
                                [
                                    "10",
                                    "1483.0",
                                    "2005-2009",
                                    "Missouri",
                                    "Adair County",
                                    "24801.0",
                                    null,
                                    null,
                                    null,
                                    null,
                                    null,
                                    null,
                                    null,
                                    null,
                                    null,
                                    "left_only"
                                ],
                                [
                                    "11",
                                    "2131.0",
                                    "2005-2009",
                                    "Oklahoma",
                                    "Adair County",
                                    "21822.0",
                                    null,
                                    null,
                                    null,
                                    null,
                                    null,
                                    null,
                                    null,
                                    null,
                                    null,
                                    "left_only"
                                ],
                                [
                                    "12",
                                    "789.0",
                                    "2013-2017",
                                    "Iowa",
                                    "Adair County",
                                    "7192.0",
                                    null,
                                    null,
                                    null,
                                    null,
                                    null,
                                    null,
                                    null,
                                    null,
                                    null,
                                    "left_only"
                                ],
                                [
                                    "13",
                                    "993.0",
                                    "2013-2017",
                                    "Kentucky",
                                    "Adair County",
                                    "19304.0",
                                    null,
                                    null,
                                    null,
                                    null,
                                    null,
                                    null,
                                    null,
                                    null,
                                    null,
                                    "left_only"
                                ],
                                [
                                    "14",
                                    "1483.0",
                                    "2013-2017",
                                    "Missouri",
                                    "Adair County",
                                    "25437.0",
                                    null,
                                    null,
                                    null,
                                    null,
                                    null,
                                    null,
                                    null,
                                    null,
                                    null,
                                    "left_only"
                                ],
                                [
                                    "15",
                                    "2131.0",
                                    "2013-2017",
                                    "Oklahoma",
                                    "Adair County",
                                    "22136.0",
                                    null,
                                    null,
                                    null,
                                    null,
                                    null,
                                    null,
                                    null,
                                    null,
                                    null,
                                    "left_only"
                                ],
                                [
                                    "16",
                                    "244.0",
                                    "2005-2009",
                                    "Colorado",
                                    "Adams County",
                                    "419439.0",
                                    null,
                                    null,
                                    null,
                                    null,
                                    null,
                                    null,
                                    null,
                                    null,
                                    null,
                                    "left_only"
                                ],
                                [
                                    "17",
                                    "552.0",
                                    "2005-2009",
                                    "Idaho",
                                    "Adams County",
                                    "3520.0",
                                    null,
                                    null,
                                    null,
                                    null,
                                    null,
                                    null,
                                    null,
                                    null,
                                    null,
                                    "left_only"
                                ],
                                [
                                    "18",
                                    "595.0",
                                    "2005-2009",
                                    "Illinois",
                                    "Adams County",
                                    "66892.0",
                                    null,
                                    null,
                                    null,
                                    null,
                                    null,
                                    null,
                                    null,
                                    null,
                                    null,
                                    "left_only"
                                ],
                                [
                                    "19",
                                    "697.0",
                                    "2005-2009",
                                    "Indiana",
                                    "Adams County",
                                    "33955.0",
                                    null,
                                    null,
                                    null,
                                    null,
                                    null,
                                    null,
                                    null,
                                    null,
                                    null,
                                    "left_only"
                                ],
                                [
                                    "20",
                                    "790.0",
                                    "2005-2009",
                                    "Iowa",
                                    "Adams County",
                                    "4072.0",
                                    null,
                                    null,
                                    null,
                                    null,
                                    null,
                                    null,
                                    null,
                                    null,
                                    null,
                                    "left_only"
                                ],
                                [
                                    "21",
                                    "1401.0",
                                    "2005-2009",
                                    "Mississippi",
                                    "Adams County",
                                    "31475.0",
                                    null,
                                    null,
                                    null,
                                    null,
                                    null,
                                    null,
                                    null,
                                    null,
                                    null,
                                    "left_only"
                                ],
                                [
                                    "22",
                                    "1654.0",
                                    "2005-2009",
                                    "Nebraska",
                                    "Adams County",
                                    "33024.0",
                                    null,
                                    null,
                                    null,
                                    null,
                                    null,
                                    null,
                                    null,
                                    null,
                                    null,
                                    "left_only"
                                ],
                                [
                                    "23",
                                    "1990.0",
                                    "2005-2009",
                                    "North Dakota",
                                    "Adams County",
                                    "2291.0",
                                    null,
                                    null,
                                    null,
                                    null,
                                    null,
                                    null,
                                    null,
                                    null,
                                    null,
                                    "left_only"
                                ],
                                [
                                    "24",
                                    "2043.0",
                                    "2005-2009",
                                    "Ohio",
                                    "Adams County",
                                    "28142.0",
                                    null,
                                    null,
                                    null,
                                    null,
                                    null,
                                    null,
                                    null,
                                    null,
                                    null,
                                    "left_only"
                                ],
                                [
                                    "25",
                                    "2244.0",
                                    "2005-2009",
                                    "Pennsylvania",
                                    "Adams County",
                                    "101011.0",
                                    null,
                                    null,
                                    null,
                                    null,
                                    null,
                                    null,
                                    null,
                                    null,
                                    null,
                                    "left_only"
                                ],
                                [
                                    "26",
                                    "2954.0",
                                    "2005-2009",
                                    "Washington",
                                    "Adams County",
                                    "17029.0",
                                    null,
                                    null,
                                    null,
                                    null,
                                    null,
                                    null,
                                    null,
                                    null,
                                    null,
                                    "left_only"
                                ],
                                [
                                    "27",
                                    "3048.0",
                                    "2005-2009",
                                    "Wisconsin",
                                    "Adams County",
                                    "20400.0",
                                    null,
                                    null,
                                    null,
                                    null,
                                    null,
                                    null,
                                    null,
                                    null,
                                    null,
                                    "left_only"
                                ],
                                [
                                    "28",
                                    "244.0",
                                    "2013-2017",
                                    "Colorado",
                                    "Adams County",
                                    "487850.0",
                                    null,
                                    null,
                                    null,
                                    null,
                                    null,
                                    null,
                                    null,
                                    null,
                                    null,
                                    "left_only"
                                ],
                                [
                                    "29",
                                    "552.0",
                                    "2013-2017",
                                    "Idaho",
                                    "Adams County",
                                    "3946.0",
                                    null,
                                    null,
                                    null,
                                    null,
                                    null,
                                    null,
                                    null,
                                    null,
                                    null,
                                    "left_only"
                                ],
                                [
                                    "30",
                                    "595.0",
                                    "2013-2017",
                                    "Illinois",
                                    "Adams County",
                                    "66787.0",
                                    null,
                                    null,
                                    null,
                                    null,
                                    null,
                                    null,
                                    null,
                                    null,
                                    null,
                                    "left_only"
                                ],
                                [
                                    "31",
                                    "697.0",
                                    "2013-2017",
                                    "Indiana",
                                    "Adams County",
                                    "35018.0",
                                    null,
                                    null,
                                    null,
                                    null,
                                    null,
                                    null,
                                    null,
                                    null,
                                    null,
                                    "left_only"
                                ],
                                [
                                    "32",
                                    "790.0",
                                    "2013-2017",
                                    "Iowa",
                                    "Adams County",
                                    "3785.0",
                                    null,
                                    null,
                                    null,
                                    null,
                                    null,
                                    null,
                                    null,
                                    null,
                                    null,
                                    "left_only"
                                ],
                                [
                                    "33",
                                    "1401.0",
                                    "2013-2017",
                                    "Mississippi",
                                    "Adams County",
                                    "31583.0",
                                    null,
                                    null,
                                    null,
                                    null,
                                    null,
                                    null,
                                    null,
                                    null,
                                    null,
                                    "left_only"
                                ],
                                [
                                    "34",
                                    "1654.0",
                                    "2013-2017",
                                    "Nebraska",
                                    "Adams County",
                                    "31564.0",
                                    null,
                                    null,
                                    null,
                                    null,
                                    null,
                                    null,
                                    null,
                                    null,
                                    null,
                                    "left_only"
                                ],
                                [
                                    "35",
                                    "1990.0",
                                    "2013-2017",
                                    "North Dakota",
                                    "Adams County",
                                    "2368.0",
                                    null,
                                    null,
                                    null,
                                    null,
                                    null,
                                    null,
                                    null,
                                    null,
                                    null,
                                    "left_only"
                                ],
                                [
                                    "36",
                                    "2043.0",
                                    "2013-2017",
                                    "Ohio",
                                    "Adams County",
                                    "27926.0",
                                    null,
                                    null,
                                    null,
                                    null,
                                    null,
                                    null,
                                    null,
                                    null,
                                    null,
                                    "left_only"
                                ],
                                [
                                    "37",
                                    "2244.0",
                                    "2013-2017",
                                    "Pennsylvania",
                                    "Adams County",
                                    "101589.0",
                                    null,
                                    null,
                                    null,
                                    null,
                                    null,
                                    null,
                                    null,
                                    null,
                                    null,
                                    "left_only"
                                ],
                                [
                                    "38",
                                    "2953.0",
                                    "2013-2017",
                                    "Washington",
                                    "Adams County",
                                    "19261.0",
                                    null,
                                    null,
                                    null,
                                    null,
                                    null,
                                    null,
                                    null,
                                    null,
                                    null,
                                    "left_only"
                                ],
                                [
                                    "39",
                                    "3047.0",
                                    "2013-2017",
                                    "Wisconsin",
                                    "Adams County",
                                    "20111.0",
                                    null,
                                    null,
                                    null,
                                    null,
                                    null,
                                    null,
                                    null,
                                    null,
                                    null,
                                    "left_only"
                                ],
                                [
                                    "40",
                                    "2806.0",
                                    "2005-2009",
                                    "Vermont",
                                    "Addison County",
                                    "36659.0",
                                    null,
                                    null,
                                    null,
                                    null,
                                    null,
                                    null,
                                    null,
                                    null,
                                    null,
                                    "left_only"
                                ],
                                [
                                    "41",
                                    "2806.0",
                                    "2013-2017",
                                    "Vermont",
                                    "Addison County",
                                    "36825.0",
                                    null,
                                    null,
                                    null,
                                    null,
                                    null,
                                    null,
                                    null,
                                    null,
                                    null,
                                    "left_only"
                                ],
                                [
                                    "42",
                                    "3143.0",
                                    "2005-2009",
                                    "Puerto Rico",
                                    "Adjuntas Municipio",
                                    "18472.0",
                                    null,
                                    null,
                                    null,
                                    null,
                                    null,
                                    null,
                                    null,
                                    null,
                                    null,
                                    "left_only"
                                ],
                                [
                                    "43",
                                    "3142.0",
                                    "2013-2017",
                                    "Puerto Rico",
                                    "Adjuntas Municipio",
                                    "18525.0",
                                    null,
                                    null,
                                    null,
                                    null,
                                    null,
                                    null,
                                    null,
                                    null,
                                    null,
                                    "left_only"
                                ],
                                [
                                    "44",
                                    "3144.0",
                                    "2005-2009",
                                    "Puerto Rico",
                                    "Aguada Municipio",
                                    "45597.0",
                                    null,
                                    null,
                                    null,
                                    null,
                                    null,
                                    null,
                                    null,
                                    null,
                                    null,
                                    "left_only"
                                ],
                                [
                                    "45",
                                    "3143.0",
                                    "2013-2017",
                                    "Puerto Rico",
                                    "Aguada Municipio",
                                    "39470.0",
                                    null,
                                    null,
                                    null,
                                    null,
                                    null,
                                    null,
                                    null,
                                    null,
                                    null,
                                    "left_only"
                                ],
                                [
                                    "46",
                                    "3145.0",
                                    "2005-2009",
                                    "Puerto Rico",
                                    "Aguadilla Municipio",
                                    "67187.0",
                                    null,
                                    null,
                                    null,
                                    null,
                                    null,
                                    null,
                                    null,
                                    null,
                                    null,
                                    "left_only"
                                ],
                                [
                                    "47",
                                    "3144.0",
                                    "2013-2017",
                                    "Puerto Rico",
                                    "Aguadilla Municipio",
                                    "55722.0",
                                    null,
                                    null,
                                    null,
                                    null,
                                    null,
                                    null,
                                    null,
                                    null,
                                    null,
                                    "left_only"
                                ],
                                [
                                    "48",
                                    "3146.0",
                                    "2005-2009",
                                    "Puerto Rico",
                                    "Aguas Buenas Municipio",
                                    "31341.0",
                                    null,
                                    null,
                                    null,
                                    null,
                                    null,
                                    null,
                                    null,
                                    null,
                                    null,
                                    "left_only"
                                ],
                                [
                                    "49",
                                    "3145.0",
                                    "2013-2017",
                                    "Puerto Rico",
                                    "Aguas Buenas Municipio",
                                    "26855.0",
                                    null,
                                    null,
                                    null,
                                    null,
                                    null,
                                    null,
                                    null,
                                    null,
                                    null,
                                    "left_only"
                                ]
                            ],
                            "shape": {
                                "columns": 15,
                                "rows": 6443
                            }
                        },
                        "text/html": [
                            "<div>\n",
                            "<style scoped>\n",
                            "    .dataframe tbody tr th:only-of-type {\n",
                            "        vertical-align: middle;\n",
                            "    }\n",
                            "\n",
                            "    .dataframe tbody tr th {\n",
                            "        vertical-align: top;\n",
                            "    }\n",
                            "\n",
                            "    .dataframe thead th {\n",
                            "        text-align: right;\n",
                            "    }\n",
                            "</style>\n",
                            "<table border=\"1\" class=\"dataframe\">\n",
                            "  <thead>\n",
                            "    <tr style=\"text-align: right;\">\n",
                            "      <th></th>\n",
                            "      <th>Unnamed: 0_x</th>\n",
                            "      <th>YEAR</th>\n",
                            "      <th>STATE</th>\n",
                            "      <th>COUNTY</th>\n",
                            "      <th>total_population</th>\n",
                            "      <th>Unnamed: 0_y</th>\n",
                            "      <th>VIOLENT</th>\n",
                            "      <th>PROPERTY</th>\n",
                            "      <th>F_DRUGOFF</th>\n",
                            "      <th>F_SEXOFF</th>\n",
                            "      <th>F_ALLOTHER</th>\n",
                            "      <th>F_TOTAL</th>\n",
                            "      <th>M_TOTAL</th>\n",
                            "      <th>S_TOTAL</th>\n",
                            "      <th>_merge</th>\n",
                            "    </tr>\n",
                            "  </thead>\n",
                            "  <tbody>\n",
                            "    <tr>\n",
                            "      <th>0</th>\n",
                            "      <td>2316.0</td>\n",
                            "      <td>2005-2009</td>\n",
                            "      <td>South Carolina</td>\n",
                            "      <td>Abbeville County</td>\n",
                            "      <td>25347.0</td>\n",
                            "      <td>NaN</td>\n",
                            "      <td>NaN</td>\n",
                            "      <td>NaN</td>\n",
                            "      <td>NaN</td>\n",
                            "      <td>NaN</td>\n",
                            "      <td>NaN</td>\n",
                            "      <td>NaN</td>\n",
                            "      <td>NaN</td>\n",
                            "      <td>NaN</td>\n",
                            "      <td>left_only</td>\n",
                            "    </tr>\n",
                            "    <tr>\n",
                            "      <th>1</th>\n",
                            "      <td>2316.0</td>\n",
                            "      <td>2013-2017</td>\n",
                            "      <td>South Carolina</td>\n",
                            "      <td>Abbeville County</td>\n",
                            "      <td>24788.0</td>\n",
                            "      <td>NaN</td>\n",
                            "      <td>NaN</td>\n",
                            "      <td>NaN</td>\n",
                            "      <td>NaN</td>\n",
                            "      <td>NaN</td>\n",
                            "      <td>NaN</td>\n",
                            "      <td>NaN</td>\n",
                            "      <td>NaN</td>\n",
                            "      <td>NaN</td>\n",
                            "      <td>left_only</td>\n",
                            "    </tr>\n",
                            "    <tr>\n",
                            "      <th>2</th>\n",
                            "      <td>1113.0</td>\n",
                            "      <td>2005-2009</td>\n",
                            "      <td>Louisiana</td>\n",
                            "      <td>Acadia Parish</td>\n",
                            "      <td>59616.0</td>\n",
                            "      <td>NaN</td>\n",
                            "      <td>NaN</td>\n",
                            "      <td>NaN</td>\n",
                            "      <td>NaN</td>\n",
                            "      <td>NaN</td>\n",
                            "      <td>NaN</td>\n",
                            "      <td>NaN</td>\n",
                            "      <td>NaN</td>\n",
                            "      <td>NaN</td>\n",
                            "      <td>left_only</td>\n",
                            "    </tr>\n",
                            "    <tr>\n",
                            "      <th>3</th>\n",
                            "      <td>1113.0</td>\n",
                            "      <td>2013-2017</td>\n",
                            "      <td>Louisiana</td>\n",
                            "      <td>Acadia Parish</td>\n",
                            "      <td>62607.0</td>\n",
                            "      <td>NaN</td>\n",
                            "      <td>NaN</td>\n",
                            "      <td>NaN</td>\n",
                            "      <td>NaN</td>\n",
                            "      <td>NaN</td>\n",
                            "      <td>NaN</td>\n",
                            "      <td>NaN</td>\n",
                            "      <td>NaN</td>\n",
                            "      <td>NaN</td>\n",
                            "      <td>left_only</td>\n",
                            "    </tr>\n",
                            "    <tr>\n",
                            "      <th>4</th>\n",
                            "      <td>2820.0</td>\n",
                            "      <td>2005-2009</td>\n",
                            "      <td>Virginia</td>\n",
                            "      <td>Accomack County</td>\n",
                            "      <td>38522.0</td>\n",
                            "      <td>NaN</td>\n",
                            "      <td>NaN</td>\n",
                            "      <td>NaN</td>\n",
                            "      <td>NaN</td>\n",
                            "      <td>NaN</td>\n",
                            "      <td>NaN</td>\n",
                            "      <td>NaN</td>\n",
                            "      <td>NaN</td>\n",
                            "      <td>NaN</td>\n",
                            "      <td>left_only</td>\n",
                            "    </tr>\n",
                            "    <tr>\n",
                            "      <th>...</th>\n",
                            "      <td>...</td>\n",
                            "      <td>...</td>\n",
                            "      <td>...</td>\n",
                            "      <td>...</td>\n",
                            "      <td>...</td>\n",
                            "      <td>...</td>\n",
                            "      <td>...</td>\n",
                            "      <td>...</td>\n",
                            "      <td>...</td>\n",
                            "      <td>...</td>\n",
                            "      <td>...</td>\n",
                            "      <td>...</td>\n",
                            "      <td>...</td>\n",
                            "      <td>...</td>\n",
                            "      <td>...</td>\n",
                            "    </tr>\n",
                            "    <tr>\n",
                            "      <th>6438</th>\n",
                            "      <td>2775.0</td>\n",
                            "      <td>2013-2017</td>\n",
                            "      <td>Texas</td>\n",
                            "      <td>Zapata County</td>\n",
                            "      <td>14415.0</td>\n",
                            "      <td>NaN</td>\n",
                            "      <td>NaN</td>\n",
                            "      <td>NaN</td>\n",
                            "      <td>NaN</td>\n",
                            "      <td>NaN</td>\n",
                            "      <td>NaN</td>\n",
                            "      <td>NaN</td>\n",
                            "      <td>NaN</td>\n",
                            "      <td>NaN</td>\n",
                            "      <td>left_only</td>\n",
                            "    </tr>\n",
                            "    <tr>\n",
                            "      <th>6439</th>\n",
                            "      <td>2776.0</td>\n",
                            "      <td>2005-2009</td>\n",
                            "      <td>Texas</td>\n",
                            "      <td>Zavala County</td>\n",
                            "      <td>11620.0</td>\n",
                            "      <td>NaN</td>\n",
                            "      <td>NaN</td>\n",
                            "      <td>NaN</td>\n",
                            "      <td>NaN</td>\n",
                            "      <td>NaN</td>\n",
                            "      <td>NaN</td>\n",
                            "      <td>NaN</td>\n",
                            "      <td>NaN</td>\n",
                            "      <td>NaN</td>\n",
                            "      <td>left_only</td>\n",
                            "    </tr>\n",
                            "    <tr>\n",
                            "      <th>6440</th>\n",
                            "      <td>2776.0</td>\n",
                            "      <td>2013-2017</td>\n",
                            "      <td>Texas</td>\n",
                            "      <td>Zavala County</td>\n",
                            "      <td>12152.0</td>\n",
                            "      <td>NaN</td>\n",
                            "      <td>NaN</td>\n",
                            "      <td>NaN</td>\n",
                            "      <td>NaN</td>\n",
                            "      <td>NaN</td>\n",
                            "      <td>NaN</td>\n",
                            "      <td>NaN</td>\n",
                            "      <td>NaN</td>\n",
                            "      <td>NaN</td>\n",
                            "      <td>left_only</td>\n",
                            "    </tr>\n",
                            "    <tr>\n",
                            "      <th>6441</th>\n",
                            "      <td>2427.0</td>\n",
                            "      <td>2005-2009</td>\n",
                            "      <td>South Dakota</td>\n",
                            "      <td>Ziebach County</td>\n",
                            "      <td>2574.0</td>\n",
                            "      <td>NaN</td>\n",
                            "      <td>NaN</td>\n",
                            "      <td>NaN</td>\n",
                            "      <td>NaN</td>\n",
                            "      <td>NaN</td>\n",
                            "      <td>NaN</td>\n",
                            "      <td>NaN</td>\n",
                            "      <td>NaN</td>\n",
                            "      <td>NaN</td>\n",
                            "      <td>left_only</td>\n",
                            "    </tr>\n",
                            "    <tr>\n",
                            "      <th>6442</th>\n",
                            "      <td>2427.0</td>\n",
                            "      <td>2013-2017</td>\n",
                            "      <td>South Dakota</td>\n",
                            "      <td>Ziebach County</td>\n",
                            "      <td>2837.0</td>\n",
                            "      <td>NaN</td>\n",
                            "      <td>NaN</td>\n",
                            "      <td>NaN</td>\n",
                            "      <td>NaN</td>\n",
                            "      <td>NaN</td>\n",
                            "      <td>NaN</td>\n",
                            "      <td>NaN</td>\n",
                            "      <td>NaN</td>\n",
                            "      <td>NaN</td>\n",
                            "      <td>left_only</td>\n",
                            "    </tr>\n",
                            "  </tbody>\n",
                            "</table>\n",
                            "<p>6443 rows × 15 columns</p>\n",
                            "</div>"
                        ],
                        "text/plain": [
                            "      Unnamed: 0_x       YEAR           STATE            COUNTY  \\\n",
                            "0           2316.0  2005-2009  South Carolina  Abbeville County   \n",
                            "1           2316.0  2013-2017  South Carolina  Abbeville County   \n",
                            "2           1113.0  2005-2009       Louisiana     Acadia Parish   \n",
                            "3           1113.0  2013-2017       Louisiana     Acadia Parish   \n",
                            "4           2820.0  2005-2009        Virginia   Accomack County   \n",
                            "...            ...        ...             ...               ...   \n",
                            "6438        2775.0  2013-2017           Texas     Zapata County   \n",
                            "6439        2776.0  2005-2009           Texas     Zavala County   \n",
                            "6440        2776.0  2013-2017           Texas     Zavala County   \n",
                            "6441        2427.0  2005-2009    South Dakota    Ziebach County   \n",
                            "6442        2427.0  2013-2017    South Dakota    Ziebach County   \n",
                            "\n",
                            "      total_population  Unnamed: 0_y  VIOLENT  PROPERTY  F_DRUGOFF  F_SEXOFF  \\\n",
                            "0              25347.0           NaN      NaN       NaN        NaN       NaN   \n",
                            "1              24788.0           NaN      NaN       NaN        NaN       NaN   \n",
                            "2              59616.0           NaN      NaN       NaN        NaN       NaN   \n",
                            "3              62607.0           NaN      NaN       NaN        NaN       NaN   \n",
                            "4              38522.0           NaN      NaN       NaN        NaN       NaN   \n",
                            "...                ...           ...      ...       ...        ...       ...   \n",
                            "6438           14415.0           NaN      NaN       NaN        NaN       NaN   \n",
                            "6439           11620.0           NaN      NaN       NaN        NaN       NaN   \n",
                            "6440           12152.0           NaN      NaN       NaN        NaN       NaN   \n",
                            "6441            2574.0           NaN      NaN       NaN        NaN       NaN   \n",
                            "6442            2837.0           NaN      NaN       NaN        NaN       NaN   \n",
                            "\n",
                            "      F_ALLOTHER  F_TOTAL  M_TOTAL  S_TOTAL     _merge  \n",
                            "0            NaN      NaN      NaN      NaN  left_only  \n",
                            "1            NaN      NaN      NaN      NaN  left_only  \n",
                            "2            NaN      NaN      NaN      NaN  left_only  \n",
                            "3            NaN      NaN      NaN      NaN  left_only  \n",
                            "4            NaN      NaN      NaN      NaN  left_only  \n",
                            "...          ...      ...      ...      ...        ...  \n",
                            "6438         NaN      NaN      NaN      NaN  left_only  \n",
                            "6439         NaN      NaN      NaN      NaN  left_only  \n",
                            "6440         NaN      NaN      NaN      NaN  left_only  \n",
                            "6441         NaN      NaN      NaN      NaN  left_only  \n",
                            "6442         NaN      NaN      NaN      NaN  left_only  \n",
                            "\n",
                            "[6443 rows x 15 columns]"
                        ]
                    },
                    "execution_count": 33,
                    "metadata": {},
                    "output_type": "execute_result"
                }
            ],
            "source": [
                "merged"
            ]
        },
        {
            "cell_type": "markdown",
            "metadata": {},
            "source": [
                "### Exercise 6\n",
                "\n",
                "When merging data, the result will only be meaningful if your understanding of how the data sets you are merging relate to one another are correct. In some ways, this is obvious — for example, if the variable(s) that you are using to merge observations in the two datasets or to actually identifying observations that should be linked, then obviously merging using those variables will create a meaningless new dataset.\n",
                "\n",
                "But other properties that matter are often more subtle. For example, it's important to figure out whether your merge is a `1-to-1` merge (meaning there is only one observation of the variable you're merging on in both datasets), a `1-to-many` merge (meaning there is only one observation of the variable you're merging on in the first dataset, but multiple observations in the second), or a `many-to-many` merge (something you almost never do). \n",
                "\n",
                "Being correct in your assumptions about these things is *very* important. If you think there's only one observation per value of your merging variable in each dataset, but there are in fact 2, you'll end up with two observations for each value after the merge. Moreover, not only is the structure of your data now a mess, but the fact you were wrong means you didn't understand something about your data. \n",
                "\n",
                "So before running a merge, it is critical to answer the following questions:\n",
                "\n",
                "a) What variable(s) do you think will be consistent across these two datasets you can use for merging? \n",
                "\n",
                "b) Do you think there will be exactly 1 observation for each value of this variable(s) in your arrest data?\n",
                "\n",
                "c) Do you think there will be exactly 1 observation for each value of this variable(s) in your population data?\n",
                "\n",
                "So in markdown, answer these three questions for this data.\n",
                "\n",
                "\n",
                "Then also specify the type of merge you were hoping to accomplish as one of the following strings — `\"one-to-one\"`, `\"one-to-many\"`, `\"many-to-one\"`, or `\"many-to-many\"` — in your `results` dictionary under the key `\"ex6_validate_keyword\"`. Assume that the first dataset we are talking about (e.g., the `one` in `one-to-many`, if that were your selection) is your arrests data and the second dataset (e.g., the `many` in `one-to-many`, if that were your selection)."
            ]
        },
        {
            "cell_type": "markdown",
            "metadata": {},
            "source": [
                "a)  The consistent column is County\n",
                "b) Yes, im sure of it, we checked\n",
                "c) No, we're sure of it, we checked"
            ]
        },
        {
            "cell_type": "markdown",
            "metadata": {},
            "source": [
                "## Merge Validation\n",
                "\n",
                "Because of the importance of answering these questions accurately, `pandas` provides a utility for *validating* these assumptions when you do a merge: the `validate` keyword! Validate will accept `\"1:1\"`, `\"1:m\"`, `\"m:1\"`, and `\"m:m\"`. It will then check to make sure your merge matches the type of merge you think it is. I *highly* recommend always using this option (...and not just because I'm the one who added `validate` to pandas).\n",
                "\n",
                "*Note:* `validate` only actually tests if observations are unique when a `1` is specified; if you do a `1:1` merge but pass `validate=\"1:m\"`, `validate=\"m:1\"`, or `validate=\"m:m\"`, you won't get an error — a one-to-many merge that turns out to be a one-to-one isn't nearly as dangerous as a one-to-one merge that turns out to be one-to-many.\n",
                "\n",
                "### Exercise 7\n",
                "\n",
                "Repeat the merge you conducted above, but this time use the `validate` to make sure your assumptions about the data were correct. If you find that you made a mistake, revise your data until the merge you think is correct actually takes place.\n",
                "\n",
                "To aid the autograder, please make sure to comment out any code that generates an error.\n",
                "\n"
            ]
        },
        {
            "cell_type": "markdown",
            "metadata": {},
            "source": [
                "### Exercise 8\n",
                "\n",
                "Were your assumptions about the data correct? If not, what had you (implicitly) assumed when you did your merge in Exercise 5 that turned out not to be correct?"
            ]
        },
        {
            "cell_type": "markdown",
            "metadata": {},
            "source": [
                "## Merge Diagnostics\n",
                "\n",
                "### Exercise 9\n",
                "\n",
                "Checking whether you are doing a 1-to-1, many-to-1, 1-to-many, or many-to-many merge is only the first type of diagnostic test you should run on *every* merge you conduct. The second test is to see if you data merged successfully!\n",
                "\n",
                "To help with this, the `merge` function in pandas offers a keyword option called `indicator`. If you set `indicator` to `True`, then pandas will add a column to the result of your merge called `_merge`. This variable will tell you, for each observation in your merged data, whether: \n",
                "\n",
                "- that observation came from a successful merge of both datasets, \n",
                "- if that observation was in the left dataset (the first one you passed) but not the right dataset (the second one you passed), or \n",
                "- if that observation was in the right dataset but not the left. \n",
                "\n",
                "This allows you to quickly identify failed merges!\n",
                "\n",
                "For example, suppose you had the following data:"
            ]
        },
        {
            "cell_type": "code",
            "execution_count": 1,
            "metadata": {},
            "outputs": [
                {
                    "data": {
                        "text/html": [
                            "<div>\n",
                            "<style scoped>\n",
                            "    .dataframe tbody tr th:only-of-type {\n",
                            "        vertical-align: middle;\n",
                            "    }\n",
                            "\n",
                            "    .dataframe tbody tr th {\n",
                            "        vertical-align: top;\n",
                            "    }\n",
                            "\n",
                            "    .dataframe thead th {\n",
                            "        text-align: right;\n",
                            "    }\n",
                            "</style>\n",
                            "<table border=\"1\" class=\"dataframe\">\n",
                            "  <thead>\n",
                            "    <tr style=\"text-align: right;\">\n",
                            "      <th></th>\n",
                            "      <th>key</th>\n",
                            "      <th>df1_var</th>\n",
                            "    </tr>\n",
                            "  </thead>\n",
                            "  <tbody>\n",
                            "    <tr>\n",
                            "      <th>0</th>\n",
                            "      <td>key1</td>\n",
                            "      <td>1</td>\n",
                            "    </tr>\n",
                            "    <tr>\n",
                            "      <th>1</th>\n",
                            "      <td>key2</td>\n",
                            "      <td>2</td>\n",
                            "    </tr>\n",
                            "  </tbody>\n",
                            "</table>\n",
                            "</div>"
                        ],
                        "text/plain": [
                            "    key  df1_var\n",
                            "0  key1        1\n",
                            "1  key2        2"
                        ]
                    },
                    "execution_count": 1,
                    "metadata": {},
                    "output_type": "execute_result"
                }
            ],
            "source": [
                "import pandas as pd\n",
                "import numpy as np\n",
                "\n",
                "pd.set_option(\"mode.copy_on_write\", True)\n",
                "\n",
                "df1 = pd.DataFrame({\"key\": [\"key1\", \"key2\"], \"df1_var\": [1, 2]})\n",
                "df1"
            ]
        },
        {
            "cell_type": "code",
            "execution_count": 2,
            "metadata": {},
            "outputs": [
                {
                    "data": {
                        "text/html": [
                            "<div>\n",
                            "<style scoped>\n",
                            "    .dataframe tbody tr th:only-of-type {\n",
                            "        vertical-align: middle;\n",
                            "    }\n",
                            "\n",
                            "    .dataframe tbody tr th {\n",
                            "        vertical-align: top;\n",
                            "    }\n",
                            "\n",
                            "    .dataframe thead th {\n",
                            "        text-align: right;\n",
                            "    }\n",
                            "</style>\n",
                            "<table border=\"1\" class=\"dataframe\">\n",
                            "  <thead>\n",
                            "    <tr style=\"text-align: right;\">\n",
                            "      <th></th>\n",
                            "      <th>key</th>\n",
                            "      <th>df2_var</th>\n",
                            "    </tr>\n",
                            "  </thead>\n",
                            "  <tbody>\n",
                            "    <tr>\n",
                            "      <th>0</th>\n",
                            "      <td>key1</td>\n",
                            "      <td>a</td>\n",
                            "    </tr>\n",
                            "    <tr>\n",
                            "      <th>1</th>\n",
                            "      <td>Key2</td>\n",
                            "      <td>b</td>\n",
                            "    </tr>\n",
                            "  </tbody>\n",
                            "</table>\n",
                            "</div>"
                        ],
                        "text/plain": [
                            "    key df2_var\n",
                            "0  key1       a\n",
                            "1  Key2       b"
                        ]
                    },
                    "execution_count": 2,
                    "metadata": {},
                    "output_type": "execute_result"
                }
            ],
            "source": [
                "df2 = pd.DataFrame({\"key\": [\"key1\", \"Key2\"], \"df2_var\": [\"a\", \"b\"]})\n",
                "df2"
            ]
        },
        {
            "cell_type": "markdown",
            "metadata": {},
            "source": [
                "Now suppose you *expected* that all observations should merge when you merge these datasets (because you hadn't noticed the typo in `df2` where `key2` has a capital `Key2`. If you just run a merge, it works without any problems:"
            ]
        },
        {
            "cell_type": "code",
            "execution_count": 3,
            "metadata": {},
            "outputs": [],
            "source": [
                "new_data = pd.merge(df1, df2, on=\"key\", how=\"outer\")"
            ]
        },
        {
            "cell_type": "markdown",
            "metadata": {},
            "source": [
                "And so you might carry on in life unaware your data is now corrupted: instead of two merged rows, you now have 3, only 1 of which merged correctly!"
            ]
        },
        {
            "cell_type": "code",
            "execution_count": 4,
            "metadata": {},
            "outputs": [
                {
                    "data": {
                        "text/html": [
                            "<div>\n",
                            "<style scoped>\n",
                            "    .dataframe tbody tr th:only-of-type {\n",
                            "        vertical-align: middle;\n",
                            "    }\n",
                            "\n",
                            "    .dataframe tbody tr th {\n",
                            "        vertical-align: top;\n",
                            "    }\n",
                            "\n",
                            "    .dataframe thead th {\n",
                            "        text-align: right;\n",
                            "    }\n",
                            "</style>\n",
                            "<table border=\"1\" class=\"dataframe\">\n",
                            "  <thead>\n",
                            "    <tr style=\"text-align: right;\">\n",
                            "      <th></th>\n",
                            "      <th>key</th>\n",
                            "      <th>df1_var</th>\n",
                            "      <th>df2_var</th>\n",
                            "    </tr>\n",
                            "  </thead>\n",
                            "  <tbody>\n",
                            "    <tr>\n",
                            "      <th>0</th>\n",
                            "      <td>key1</td>\n",
                            "      <td>1.0</td>\n",
                            "      <td>a</td>\n",
                            "    </tr>\n",
                            "    <tr>\n",
                            "      <th>1</th>\n",
                            "      <td>key2</td>\n",
                            "      <td>2.0</td>\n",
                            "      <td>NaN</td>\n",
                            "    </tr>\n",
                            "    <tr>\n",
                            "      <th>2</th>\n",
                            "      <td>Key2</td>\n",
                            "      <td>NaN</td>\n",
                            "      <td>b</td>\n",
                            "    </tr>\n",
                            "  </tbody>\n",
                            "</table>\n",
                            "</div>"
                        ],
                        "text/plain": [
                            "    key  df1_var df2_var\n",
                            "0  key1      1.0       a\n",
                            "1  key2      2.0     NaN\n",
                            "2  Key2      NaN       b"
                        ]
                    },
                    "execution_count": 4,
                    "metadata": {},
                    "output_type": "execute_result"
                }
            ],
            "source": [
                "new_data"
            ]
        },
        {
            "cell_type": "markdown",
            "metadata": {},
            "source": [
                "When what you really wanted was: "
            ]
        },
        {
            "cell_type": "code",
            "execution_count": 5,
            "metadata": {},
            "outputs": [
                {
                    "data": {
                        "text/html": [
                            "<div>\n",
                            "<style scoped>\n",
                            "    .dataframe tbody tr th:only-of-type {\n",
                            "        vertical-align: middle;\n",
                            "    }\n",
                            "\n",
                            "    .dataframe tbody tr th {\n",
                            "        vertical-align: top;\n",
                            "    }\n",
                            "\n",
                            "    .dataframe thead th {\n",
                            "        text-align: right;\n",
                            "    }\n",
                            "</style>\n",
                            "<table border=\"1\" class=\"dataframe\">\n",
                            "  <thead>\n",
                            "    <tr style=\"text-align: right;\">\n",
                            "      <th></th>\n",
                            "      <th>key</th>\n",
                            "      <th>df1_var</th>\n",
                            "      <th>df2_var</th>\n",
                            "    </tr>\n",
                            "  </thead>\n",
                            "  <tbody>\n",
                            "    <tr>\n",
                            "      <th>0</th>\n",
                            "      <td>key1</td>\n",
                            "      <td>1</td>\n",
                            "      <td>a</td>\n",
                            "    </tr>\n",
                            "    <tr>\n",
                            "      <th>1</th>\n",
                            "      <td>key2</td>\n",
                            "      <td>2</td>\n",
                            "      <td>b</td>\n",
                            "    </tr>\n",
                            "  </tbody>\n",
                            "</table>\n",
                            "</div>"
                        ],
                        "text/plain": [
                            "    key  df1_var df2_var\n",
                            "0  key1        1       a\n",
                            "1  key2        2       b"
                        ]
                    },
                    "execution_count": 5,
                    "metadata": {},
                    "output_type": "execute_result"
                }
            ],
            "source": [
                "df2_correct = df2.copy()\n",
                "df2_correct.loc[df2.key == \"Key2\", \"key\"] = \"key2\"\n",
                "pd.merge(df1, df2_correct, on=\"key\", how=\"outer\")"
            ]
        },
        {
            "cell_type": "markdown",
            "metadata": {},
            "source": [
                "(in a small dataset, you'd quickly see you have 1 row instead of 2, but if you have millions of rows, a couple missing won't be evident). \n",
                "\n",
                "But now suppose we use the `indicator` function:"
            ]
        },
        {
            "cell_type": "code",
            "execution_count": 6,
            "metadata": {},
            "outputs": [
                {
                    "data": {
                        "text/plain": [
                            "_merge\n",
                            "left_only     1\n",
                            "right_only    1\n",
                            "both          1\n",
                            "Name: count, dtype: int64"
                        ]
                    },
                    "execution_count": 6,
                    "metadata": {},
                    "output_type": "execute_result"
                }
            ],
            "source": [
                "new_data = pd.merge(df1, df2, on=\"key\", how=\"outer\", indicator=True)\n",
                "new_data._merge.value_counts()"
            ]
        },
        {
            "cell_type": "markdown",
            "metadata": {},
            "source": [
                "We could immediately see that only one observation merged correct, and that one row from each dataset failed to merge!\n",
                "\n",
                "Moreover, we can look at the failed merges:"
            ]
        },
        {
            "cell_type": "code",
            "execution_count": 7,
            "metadata": {},
            "outputs": [
                {
                    "data": {
                        "text/html": [
                            "<div>\n",
                            "<style scoped>\n",
                            "    .dataframe tbody tr th:only-of-type {\n",
                            "        vertical-align: middle;\n",
                            "    }\n",
                            "\n",
                            "    .dataframe tbody tr th {\n",
                            "        vertical-align: top;\n",
                            "    }\n",
                            "\n",
                            "    .dataframe thead th {\n",
                            "        text-align: right;\n",
                            "    }\n",
                            "</style>\n",
                            "<table border=\"1\" class=\"dataframe\">\n",
                            "  <thead>\n",
                            "    <tr style=\"text-align: right;\">\n",
                            "      <th></th>\n",
                            "      <th>key</th>\n",
                            "      <th>df1_var</th>\n",
                            "      <th>df2_var</th>\n",
                            "      <th>_merge</th>\n",
                            "    </tr>\n",
                            "  </thead>\n",
                            "  <tbody>\n",
                            "    <tr>\n",
                            "      <th>1</th>\n",
                            "      <td>key2</td>\n",
                            "      <td>2.0</td>\n",
                            "      <td>NaN</td>\n",
                            "      <td>left_only</td>\n",
                            "    </tr>\n",
                            "    <tr>\n",
                            "      <th>2</th>\n",
                            "      <td>Key2</td>\n",
                            "      <td>NaN</td>\n",
                            "      <td>b</td>\n",
                            "      <td>right_only</td>\n",
                            "    </tr>\n",
                            "  </tbody>\n",
                            "</table>\n",
                            "</div>"
                        ],
                        "text/plain": [
                            "    key  df1_var df2_var      _merge\n",
                            "1  key2      2.0     NaN   left_only\n",
                            "2  Key2      NaN       b  right_only"
                        ]
                    },
                    "execution_count": 7,
                    "metadata": {},
                    "output_type": "execute_result"
                }
            ],
            "source": [
                "new_data[new_data._merge != \"both\"]"
            ]
        },
        {
            "cell_type": "markdown",
            "metadata": {},
            "source": [
                "Allowing us to easily diagnose the problem. \n",
                "\n",
                "**Note:** The `pandas` merge function allows users to decide whether to keep only observations that merge (`how='inner'`), all the observations from the first dataset pasted to merge (`how='left'`), all the observations from the second dataset passed to merge (`how='right'`), or all observations (`how='outer'`):\n",
                "\n",
                "![join_types](https://nickeubank.github.io/practicaldatascience_book/_images/3.4.15_merge_types.png)\n",
                "\n",
                "But one danger to using the more restrictive options (like the default, `how='inner'`) is that the merge throws away all the observations that fail to merge, and while this may be the *eventual* goal of your analysis, it means that you don't get to see all the observations that failed to merge that maybe you thought *would* merge. In other words, it throws away the errors so you can't look at them!  \n",
                "\n",
                "So to use `indicator` effectively, you have to:\n",
                "\n",
                "- Not use `how=\"inner\"`, and\n",
                "- Check the values of `_merge` after your merge. "
            ]
        },
        {
            "cell_type": "markdown",
            "metadata": {},
            "source": [
                "### Exercise 10\n",
                "\n",
                "Now repeat your previous merge using *both* the `validate` keyword *and* the `indicator` keyword with `how='outer'`. \n",
                "\n",
                "How many observations successfully merged (were in both datasets)? Store the result in `results` under the key `\"ex10_merged_successfully\"`."
            ]
        },
        {
            "cell_type": "markdown",
            "metadata": {},
            "source": [
                "### Exercise 11\n",
                "\n",
                "You *should* be able to get to the point that all counties in our arrest data merge with population data. If that did not happen, can you figure out why that did not happen? Can you fix the data so that all arrest data merges with population data?"
            ]
        },
        {
            "cell_type": "markdown",
            "metadata": {},
            "source": [
                "## Comparing Arrest Rates\n",
                "\n",
                "### Exercise 12\n",
                "\n",
                "Now that we have arrest counts and population data, we can calculate arrest *rates*. For each county, create a new variable called `violent_arrest_rate_2009` that is the number of violent arrests for 2009 divided by the population of the county from 2005-2009, and a similar new variable called `drug_arrest_rate_2009` for drug arrests divided by population."
            ]
        },
        {
            "cell_type": "markdown",
            "metadata": {},
            "source": [
                "### Exercise 13\n",
                "\n",
                "Make a scatter plot that shows the relationship between each county's violent arrest rate and it's drug arrest rate. Since we haven't done a lot with plotting yet, feel free to plot in whatever manner feels most comfortable. The easiest, if you're unsure, is just to use the `pandas` inbuilt `.plot()` method. Just specify the `x` keyword with your x-axis variable, the `y` keyword with your y-axis variable, and use `kind=\"scatter\"`."
            ]
        },
        {
            "cell_type": "markdown",
            "metadata": {},
            "source": [
                "### Exercise 14\n",
                "\n",
                "Based on this simple comparison of 2009 violent arrest rates and drug arrest rates, what might you conclude about the relationship between the illegal drug trade and violent crime?"
            ]
        },
        {
            "cell_type": "markdown",
            "metadata": {},
            "source": [
                "## Comparing with 2018 Arrests\n",
                "\n",
                "The preceding analysis can tell us about whether violent crime and the drug trade are correlated, but it doesn't tell us much about whether they are *causally* related. It *could* be the case that people dealing drugs *cause* more violent crime, but it could also be that certain communities, for some other reason, tend to have *both* more drug sales *and* more violent crime. \n",
                "\n",
                "To help answer this question, let's examine whether violent crime arrest rates changed in response to drug legalization. In particular, let's do this by comparing violent crime arrest rates in 2009 (before drug legalization) to violent crime arrest rates in 2018 (after drug legalization). If the illegal drug trade causes violent crime, then we would expect the violent crime rate to fall in response to drug legalization.\n"
            ]
        },
        {
            "cell_type": "markdown",
            "metadata": {},
            "source": [
                "### Exercise 15\n",
                "\n",
                "Just as we created violent arrest rates and drug arrest rates for 2009, now we want to do it for 2018. Using the data on 2018 arrests (also in the [same repository](https://github.com/nickeubank/practicaldatascience/tree/master/Example_Data/ca) we used before) and the same dataset of population data (you'll have to use population from 2013-2017, as 2018 population data has yet to be released), create a dataset of arrest rates. \n",
                "\n",
                "As before, *be careful with your merges!!!*"
            ]
        },
        {
            "cell_type": "markdown",
            "metadata": {},
            "source": [
                "### Exercise 16\n",
                "\n",
                "Now merge our two county-level datasets so you have one row for every county, and variables for violent arrest rates in 2018, violent arrest rates in 2009, felony drug arrest rates in 2018, and felony drug arrest rates in 2009. Store the number of observations in your final data set in your `results` dictionary under the key `\"ex16_num_obs\"`."
            ]
        },
        {
            "cell_type": "markdown",
            "metadata": {},
            "source": [
                "### Exercise 17\n",
                "\n",
                "Did drug arrests go down from 2009 to 2018 in response to drug legalization? (they sure better! This is what's called a \"sanity check\" of your data and analysis. If you find drug arrests went *up*, you know something went wrong with your code or your understanding of the situations). \n",
                "\n",
                "Store the average county-level change in drug arrests per capita in `results` under the key `\"ex17_drug_change\"`."
            ]
        },
        {
            "cell_type": "markdown",
            "metadata": {},
            "source": [
                "### Exercise 18\n",
                "\n",
                "Now we want to look at whether violent crime decreased following drug legalization. Did the average violent arrest rate decrease? By how much? (Note: We're assuming that arrest rates are proportionate to crime rates. If policing increased so that there were more arrests per crime committed, that would impact our interpretation of these results. But this is just an exercise, so...)\n",
                "\n",
                "Store the average county-level change in violent arrests per capita in `results` under the key `\"ex18_violent_change\"`"
            ]
        },
        {
            "cell_type": "markdown",
            "metadata": {},
            "source": [
                "### Exercise 19\n",
                "\n",
                "Based on your answers to exercises 17 and 18, what might you conclude about the relationship between the illegal drug trade and violent crime? Did legalizing drugs increase violent crime (assuming arrest rates are a good proxy for crime rates)? Decrease violent crime? Have no effect? "
            ]
        },
        {
            "cell_type": "markdown",
            "metadata": {},
            "source": [
                "## Difference in Difference Analysis\n",
                "\n",
                "The preceding analysis is something we sometimes call a \"pre-post\" analysis, in that it is a comparison of how and outcome we care about (violent arrest rates) changes from before a treatment is introduced (\"pre\") to after (\"post\"). BUT: pre-post comparisons are imperfect. If we knew that violent crime was not going to change at all in a world without drug legalization, then this comparison is perfectly valid. But what if, absent drug legalization, violent crime would have fallen on its own (maybe because of advances in policing practices or a better economy)? Or maybe it would have increased?\n",
                "\n",
                "This is actually a very common problem. For example, imagine you're trying to figure out whether taking tylenol helps with headaches. You have a patient with a headache, you give them tylenol, and then the next day you ask them if they still have a headache, and find out that they don't — does that mean that tylenol cured the headache? Maybe... but most headaches eventually resolve on their own, so maybe the headache would have passed with or without the patient taking tylenol! In fact, there's a term for this phenomenon in medicine — the \"natural history\" of a disease, which is the trajectory that we think a disease might follow absent treatment. And the natural history of the disease is almost never for it to stay exactly the same indefinitely.\n",
                "\n",
                "(All of this is closely related to the discipline of causal inference, and if it makes your head to hurt, don't worry — that means you're doing it right! We will talk lots and lots more about it in the weeks and months to come.)\n",
                "\n",
                "One way to try to overcome this problem is with something called a difference-in-difference analysis. Rather than just looking at whether violent drug arrest rates increase or decrease between 2009 and 2018, we can split our sample of counties into those that were *more* impacted by drug legalization and those that were *less* impacted by drug legalization and evaluate whether we see a greater change in the violent drug arrest rate in the counties that were more impacted. \n",
                "\n",
                "What does it mean to have been \"more impacted\" by drug legalization? In this case, we can treat the counties that had higher drug arrest rates in 2009 as counties that were more impacted by drug legalization than those that had low drug arrest rates in 2009. After all, in a county that had no drug arrests, legalization wouldn't do anything, would it? \n"
            ]
        },
        {
            "cell_type": "markdown",
            "metadata": {},
            "source": [
                "\n",
                "### Exercise 20\n",
                "\n",
                "First, split our sample into two groups: high drug arrests in 2009, and low drug arrests in 2009 (cut the sample at the average drug arrest rate in 2009). \n"
            ]
        },
        {
            "cell_type": "markdown",
            "metadata": {},
            "source": [
                "\n",
                "### Exercise 21\n",
                "\n",
                "Now, determine weather violent crime changed *more* from 2009 to 2018 in the counties that had lots of drug arrests in 2009 (where legalization likely had more of an effect) than in counties with fewer drug arrests in 2009 (where legalization likely mattered less)? \n",
                "\n",
                "Calculate this difference-in-difference:\n",
                "\n",
                "```\n",
                "(the change in violent crime rate per capita for counties with lots of drug arrests in 2009) \n",
                "- (the change in violent crime rate per capita for counties with few drug arrests in 2009)\n",
                "\n",
                "```\n",
                "\n",
                "Store your \"difference-in-difference\" estimate in your `results` dictionary under the key `\"ex21_diffindiff\"`."
            ]
        },
        {
            "cell_type": "markdown",
            "metadata": {},
            "source": [
                "### Exercise 22\n",
                "\n",
                "Interpret your difference in difference result."
            ]
        },
        {
            "cell_type": "markdown",
            "metadata": {},
            "source": [
                "### Exercise 23\n",
                "\n",
                "The quantity we estimated above is a little difficult to interpret. Rather than calculating the *absolute* change in violent arrest rates per capita, let's calculate the *proportionate* change.\n",
                "\n",
                "Calculate:\n",
                "\n",
                "```\n",
                "(the county-level percentage change in violent crime rate with lots of drug arrests in 2009) \n",
                "- (the county-level percentage change in violent crime rate with few drug arrests in 2009)\n",
                "```\n",
                "Store your \"difference-in-difference\" estimate in your `results` dictionary under the key `\"ex24_diffindiff_proportionate\"`. Report your result in percentages, such that a value of `-100` would imply that the average county experienced a 100% decrease in the violent arrest rate."
            ]
        }
    ],
    "metadata": {
        "kernelspec": {
            "display_name": "base",
            "language": "python",
            "name": "python3"
        },
        "language_info": {
            "codemirror_mode": {
                "name": "ipython",
                "version": 3
            },
            "file_extension": ".py",
            "mimetype": "text/x-python",
            "name": "python",
            "nbconvert_exporter": "python",
            "pygments_lexer": "ipython3",
            "version": "3.12.11"
        }
    },
    "nbformat": 4,
    "nbformat_minor": 4
}
